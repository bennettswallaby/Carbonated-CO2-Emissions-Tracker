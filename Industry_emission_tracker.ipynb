{
  "nbformat": 4,
  "nbformat_minor": 0,
  "metadata": {
    "colab": {
      "provenance": []
    },
    "kernelspec": {
      "name": "python3",
      "display_name": "Python 3"
    },
    "language_info": {
      "name": "python"
    }
  },
  "cells": [
    {
      "cell_type": "code",
      "execution_count": null,
      "metadata": {
        "colab": {
          "base_uri": "https://localhost:8080/"
        },
        "id": "v_98rNNJMini",
        "outputId": "f7b3ae0c-0869-4e69-d072-63bcab2926c6"
      },
      "outputs": [
        {
          "output_type": "stream",
          "name": "stdout",
          "text": [
            "\u001b[K     |████████████████████████████████| 281.4 MB 52 kB/s \n",
            "\u001b[K     |████████████████████████████████| 199 kB 71.7 MB/s \n",
            "\u001b[?25h  Building wheel for pyspark (setup.py) ... \u001b[?25l\u001b[?25hdone\n"
          ]
        }
      ],
      "source": [
        "!pip install pyspark --quiet\n",
        "!pip install -U -q PyDrive --quiet \n",
        "!apt install openjdk-8-jdk-headless &> /dev/null"
      ]
    },
    {
      "cell_type": "code",
      "source": [
        "import os\n",
        "os.environ[\"JAVA_HOME\"] = \"/usr/lib/jvm/java-8-openjdk-amd64\""
      ],
      "metadata": {
        "id": "InhmYOjTMjHS"
      },
      "execution_count": null,
      "outputs": []
    },
    {
      "cell_type": "code",
      "source": [
        "from pyspark import SparkContext, SparkConf\n",
        "\n",
        "conf = SparkConf().set('spark.ui.port', '4050').setAppName(\"films\").setMaster(\"local[2]\")\n",
        "sc = SparkContext.getOrCreate(conf=conf)"
      ],
      "metadata": {
        "id": "VwNMCNLzMl9m"
      },
      "execution_count": null,
      "outputs": []
    },
    {
      "cell_type": "code",
      "source": [
        "!wget https://bin.equinox.io/c/4VmDzA7iaHb/ngrok-stable-linux-amd64.zip &> /dev/null\n",
        "!unzip ngrok-stable-linux-amd64.zip &> /dev/null\n",
        "get_ipython().system_raw('./ngrok http 4050 &')"
      ],
      "metadata": {
        "id": "I46cj9JSMtEI"
      },
      "execution_count": null,
      "outputs": []
    },
    {
      "cell_type": "code",
      "source": [
        "!curl -s http://localhost:4040/api/tunnels | python3 -c \\\n",
        "    \"import sys, json; print(json.load(sys.stdin)['tunnels'][0]['public_url'])\""
      ],
      "metadata": {
        "colab": {
          "base_uri": "https://localhost:8080/"
        },
        "id": "ItMdBZgjMvbO",
        "outputId": "f5ed3022-d210-402d-fce9-786bf67203ef"
      },
      "execution_count": null,
      "outputs": [
        {
          "output_type": "stream",
          "name": "stdout",
          "text": [
            "Traceback (most recent call last):\n",
            "  File \"<string>\", line 1, in <module>\n",
            "IndexError: list index out of range\n"
          ]
        }
      ]
    },
    {
      "cell_type": "code",
      "source": [
        "emission_type = ['Scope 1', 'Scope 2', 'Scope 3']"
      ],
      "metadata": {
        "id": "ozWydJyBM0Va"
      },
      "execution_count": null,
      "outputs": []
    },
    {
      "cell_type": "code",
      "source": [
        "emission_type_rdd = sc.parallelize(emission_type)\n",
        "emission_type_rdd"
      ],
      "metadata": {
        "colab": {
          "base_uri": "https://localhost:8080/"
        },
        "id": "ffenGTIeM3qh",
        "outputId": "af0ad714-f35a-4928-8afb-dca1d761d2b6"
      },
      "execution_count": null,
      "outputs": [
        {
          "output_type": "execute_result",
          "data": {
            "text/plain": [
              "ParallelCollectionRDD[0] at readRDDFromFile at PythonRDD.scala:274"
            ]
          },
          "metadata": {},
          "execution_count": 9
        }
      ]
    },
    {
      "cell_type": "code",
      "source": [
        "emission_type_rdd.map(lambda emission_type: emission_type.title()).collect()"
      ],
      "metadata": {
        "colab": {
          "base_uri": "https://localhost:8080/"
        },
        "id": "7eg8gw1sM63F",
        "outputId": "a55f4e01-b551-454b-ec7a-89a6dfc5f330"
      },
      "execution_count": null,
      "outputs": [
        {
          "output_type": "execute_result",
          "data": {
            "text/plain": [
              "['Scope 1', 'Scope 2', 'Scope 3']"
            ]
          },
          "metadata": {},
          "execution_count": 10
        }
      ]
    },
    {
      "cell_type": "code",
      "source": [
        "emission_type_rdd.map(lambda emission_type: emission_type.title()).take(1)"
      ],
      "metadata": {
        "colab": {
          "base_uri": "https://localhost:8080/"
        },
        "id": "NO1oClPzNCzF",
        "outputId": "21b6bf94-d617-450b-a15d-5fa047dddf90"
      },
      "execution_count": null,
      "outputs": [
        {
          "output_type": "execute_result",
          "data": {
            "text/plain": [
              "['Scope 1']"
            ]
          },
          "metadata": {},
          "execution_count": 11
        }
      ]
    },
    {
      "cell_type": "code",
      "source": [
        "emission_type_rdd.map(lambda emission_type: emission_type.title())"
      ],
      "metadata": {
        "colab": {
          "base_uri": "https://localhost:8080/"
        },
        "id": "01cQ4KqoNQNO",
        "outputId": "fd583b85-a3d6-44e9-eba3-5f2c9fdce695"
      },
      "execution_count": null,
      "outputs": [
        {
          "output_type": "execute_result",
          "data": {
            "text/plain": [
              "PythonRDD[3] at RDD at PythonRDD.scala:53"
            ]
          },
          "metadata": {},
          "execution_count": 12
        }
      ]
    },
    {
      "cell_type": "code",
      "source": [
        "emission_type_rdd.map(lambda emission_type: emission_type.title()).filter(lambda emission_type: emission_type[0] == 'd')"
      ],
      "metadata": {
        "colab": {
          "base_uri": "https://localhost:8080/"
        },
        "id": "3PVhUFDyNURQ",
        "outputId": "d0992538-6870-4a60-c2d8-f04deec2ab43"
      },
      "execution_count": null,
      "outputs": [
        {
          "output_type": "execute_result",
          "data": {
            "text/plain": [
              "PythonRDD[4] at RDD at PythonRDD.scala:53"
            ]
          },
          "metadata": {},
          "execution_count": 13
        }
      ]
    },
    {
      "cell_type": "code",
      "source": [
        "emission_type_rdd.filter(lambda emission_type: emission_type[0] == 'd').map(lambda emission_type: emission_type.title()).collect()"
      ],
      "metadata": {
        "colab": {
          "base_uri": "https://localhost:8080/"
        },
        "id": "TvFnkOSiNazT",
        "outputId": "3e2fdfb2-c4ac-4612-a8cf-c72681233e26"
      },
      "execution_count": null,
      "outputs": [
        {
          "output_type": "execute_result",
          "data": {
            "text/plain": [
              "[]"
            ]
          },
          "metadata": {},
          "execution_count": 14
        }
      ]
    },
    {
      "cell_type": "code",
      "source": [
        "!pip install pyspark\n",
        "!pip install findspark\n",
        "import findspark"
      ],
      "metadata": {
        "colab": {
          "base_uri": "https://localhost:8080/"
        },
        "id": "YMOra_utN1E5",
        "outputId": "2ac9ee64-9184-4197-db3d-5277687056db"
      },
      "execution_count": null,
      "outputs": [
        {
          "output_type": "stream",
          "name": "stdout",
          "text": [
            "Looking in indexes: https://pypi.org/simple, https://us-python.pkg.dev/colab-wheels/public/simple/\n",
            "Requirement already satisfied: pyspark in /usr/local/lib/python3.7/dist-packages (3.3.1)\n",
            "Requirement already satisfied: py4j==0.10.9.5 in /usr/local/lib/python3.7/dist-packages (from pyspark) (0.10.9.5)\n",
            "Looking in indexes: https://pypi.org/simple, https://us-python.pkg.dev/colab-wheels/public/simple/\n",
            "Collecting findspark\n",
            "  Downloading findspark-2.0.1-py2.py3-none-any.whl (4.4 kB)\n",
            "Installing collected packages: findspark\n",
            "Successfully installed findspark-2.0.1\n"
          ]
        }
      ]
    },
    {
      "cell_type": "code",
      "source": [
        "findspark.init()"
      ],
      "metadata": {
        "id": "o5SyKK8CN2yH"
      },
      "execution_count": null,
      "outputs": []
    },
    {
      "cell_type": "code",
      "source": [
        "import pandas as pd\n",
        "import matplotlib.pyplot as plt\n",
        "from pyspark.sql import SparkSession\n",
        "from pyspark import SparkContext, SparkConf"
      ],
      "metadata": {
        "id": "1UUysBEWN4GB"
      },
      "execution_count": null,
      "outputs": []
    },
    {
      "cell_type": "code",
      "source": [
        "from pyspark import SparkContext, SparkConf\n",
        "\n",
        "sc = SparkSession.builder.master(\"local[*]\").getOrCreate()"
      ],
      "metadata": {
        "id": "8qBe6_u_N9Bm"
      },
      "execution_count": null,
      "outputs": []
    },
    {
      "cell_type": "code",
      "source": [
        "data = sc.read.csv('WDIData_T.csv', inferSchema = True, header = True)\n",
        "data.show(5)"
      ],
      "metadata": {
        "colab": {
          "base_uri": "https://localhost:8080/"
        },
        "id": "gSeiF6oJN-d0",
        "outputId": "6af4882f-8773-4ef3-850b-40bc9cf7d05a"
      },
      "execution_count": null,
      "outputs": [
        {
          "output_type": "stream",
          "name": "stdout",
          "text": [
            "+-----------+-----------+--------------------+--------------+----+-----------------+\n",
            "|CountryName|CountryCode|       IndicatorName| IndicatorCode|Year|            Value|\n",
            "+-----------+-----------+--------------------+--------------+----+-----------------+\n",
            "| Arab World|        ARB|Adolescent fertil...|   SP.ADO.TFRT|1960| 134.772340547077|\n",
            "| Arab World|        ARB|Age dependency ra...|   SP.POP.DPND|1960| 88.0611098786549|\n",
            "| Arab World|        ARB|Age dependency ra...|SP.POP.DPND.OL|1960| 6.59195099288584|\n",
            "| Arab World|        ARB|Age dependency ra...|SP.POP.DPND.YG|1960|81.32418639093659|\n",
            "| Arab World|        ARB|Aquaculture produ...|ER.FSH.AQUA.MT|1960|           4600.0|\n",
            "+-----------+-----------+--------------------+--------------+----+-----------------+\n",
            "only showing top 5 rows\n",
            "\n"
          ]
        }
      ]
    },
    {
      "cell_type": "code",
      "source": [
        "data.count()"
      ],
      "metadata": {
        "colab": {
          "base_uri": "https://localhost:8080/"
        },
        "id": "7FGvU8q-01Sm",
        "outputId": "39dd1e31-14dd-407a-96b1-7d8354a50c9a"
      },
      "execution_count": null,
      "outputs": [
        {
          "output_type": "execute_result",
          "data": {
            "text/plain": [
              "313386"
            ]
          },
          "metadata": {},
          "execution_count": 109
        }
      ]
    },
    {
      "cell_type": "code",
      "source": [
        "data.printSchema()"
      ],
      "metadata": {
        "colab": {
          "base_uri": "https://localhost:8080/"
        },
        "id": "sG-1iQ1AOJ5T",
        "outputId": "cf3b5f9e-fe98-4732-91b8-925145581392"
      },
      "execution_count": null,
      "outputs": [
        {
          "output_type": "stream",
          "name": "stdout",
          "text": [
            "root\n",
            " |-- CountryName: string (nullable = true)\n",
            " |-- CountryCode: string (nullable = true)\n",
            " |-- IndicatorName: string (nullable = true)\n",
            " |-- IndicatorCode: string (nullable = true)\n",
            " |-- Year: integer (nullable = true)\n",
            " |-- Value: double (nullable = true)\n",
            "\n"
          ]
        }
      ]
    },
    {
      "cell_type": "code",
      "source": [
        "def replace(column, value):\n",
        "    return when(column!=value,column).otherwise(lit(None))"
      ],
      "metadata": {
        "id": "PMLhAaQvOt_-"
      },
      "execution_count": null,
      "outputs": []
    },
    {
      "cell_type": "code",
      "source": [
        "from pyspark.sql.functions import when,lit,count,isnan,col\n",
        "data.select([count(when(isnan(c)|col(c).isNull(),c)).alias(c) for c in data.columns]).show()"
      ],
      "metadata": {
        "colab": {
          "base_uri": "https://localhost:8080/"
        },
        "id": "YswzqbDLOwfz",
        "outputId": "507484db-35ed-48e1-997f-115bd05bb847"
      },
      "execution_count": null,
      "outputs": [
        {
          "output_type": "stream",
          "name": "stdout",
          "text": [
            "+-----------+-----------+-------------+-------------+----+-----+\n",
            "|CountryName|CountryCode|IndicatorName|IndicatorCode|Year|Value|\n",
            "+-----------+-----------+-------------+-------------+----+-----+\n",
            "|          0|          0|            0|            1|   2|    1|\n",
            "+-----------+-----------+-------------+-------------+----+-----+\n",
            "\n"
          ]
        }
      ]
    },
    {
      "cell_type": "code",
      "source": [
        "#deleting the column Market Category\n",
        "data = data.drop(\"Market Category\")\n",
        "# deleting the all null values \n",
        "data = data.na.drop()"
      ],
      "metadata": {
        "id": "IwHA3AEqPAMY"
      },
      "execution_count": null,
      "outputs": []
    },
    {
      "cell_type": "code",
      "source": [
        "print((data.count(), len(data.columns)))"
      ],
      "metadata": {
        "colab": {
          "base_uri": "https://localhost:8080/"
        },
        "id": "KTukBsB5PCPS",
        "outputId": "e6e8eace-3756-49e8-a41c-dc4032bdc475"
      },
      "execution_count": null,
      "outputs": [
        {
          "output_type": "stream",
          "name": "stdout",
          "text": [
            "(19083, 6)\n"
          ]
        }
      ]
    },
    {
      "cell_type": "code",
      "source": [
        "data.columns"
      ],
      "metadata": {
        "colab": {
          "base_uri": "https://localhost:8080/"
        },
        "id": "n_Etcow310rH",
        "outputId": "844c778e-0e88-4973-b6a5-33ce414f2c64"
      },
      "execution_count": null,
      "outputs": [
        {
          "output_type": "execute_result",
          "data": {
            "text/plain": [
              "['CountryName',\n",
              " 'CountryCode',\n",
              " 'IndicatorName',\n",
              " 'IndicatorCode',\n",
              " 'Year',\n",
              " 'Value']"
            ]
          },
          "metadata": {},
          "execution_count": 112
        }
      ]
    },
    {
      "cell_type": "code",
      "source": [
        "from pyspark.ml.feature import VectorAssembler\n",
        "assembler = VectorAssembler(inputCols = ['CountryName',\n",
        " 'CountryCode',\n",
        " 'IndicatorName',\n",
        " 'IndicatorCode',\n",
        " 'Year',],\n",
        "                           outputCol = \"Input Attributes\")"
      ],
      "metadata": {
        "id": "jXPEyar5PPsj"
      },
      "execution_count": null,
      "outputs": []
    },
    {
      "cell_type": "code",
      "source": [
        "from pyspark.ml.regression import RandomForestRegressor\n",
        "regressor = RandomForestRegressor(labelCol = \"MSRP\",featuresCol = 'Input Attributes')"
      ],
      "metadata": {
        "id": "Gr4DkJWRPSo2"
      },
      "execution_count": null,
      "outputs": []
    },
    {
      "cell_type": "code",
      "source": [
        "regressor"
      ],
      "metadata": {
        "colab": {
          "base_uri": "https://localhost:8080/"
        },
        "id": "4TY88jTt1_JC",
        "outputId": "1c9c59de-0558-4f99-d5ee-1e5a854dc0f3"
      },
      "execution_count": null,
      "outputs": [
        {
          "output_type": "execute_result",
          "data": {
            "text/plain": [
              "RandomForestRegressor_580048ffda4f"
            ]
          },
          "metadata": {},
          "execution_count": 111
        }
      ]
    },
    {
      "cell_type": "code",
      "source": [
        "from pyspark.ml import Pipeline\n",
        "pipeline  = Pipeline(stages = [assembler,regressor])"
      ],
      "metadata": {
        "id": "Mh_MzUWNPUUn"
      },
      "execution_count": null,
      "outputs": []
    },
    {
      "cell_type": "code",
      "source": [
        "#--Saving the Pipeline\n",
        "pipeline.write().overwrite().save(\"pipeline_saved_model\")"
      ],
      "metadata": {
        "id": "8KafbYFtPaXM"
      },
      "execution_count": null,
      "outputs": []
    },
    {
      "cell_type": "code",
      "source": [
        "pipelineModel = Pipeline.load('./pipeline_saved_model')"
      ],
      "metadata": {
        "id": "SQRk1-6LPbv2"
      },
      "execution_count": null,
      "outputs": []
    },
    {
      "cell_type": "code",
      "source": [
        "data_train , data_test = data.randomSplit([0.8,0.2], seed = 123)"
      ],
      "metadata": {
        "id": "Oo5Liks0Pef9"
      },
      "execution_count": null,
      "outputs": []
    },
    {
      "cell_type": "code",
      "source": [
        "data_train"
      ],
      "metadata": {
        "colab": {
          "base_uri": "https://localhost:8080/"
        },
        "id": "jWaV5TZf15yP",
        "outputId": "30890f63-a2b2-49bd-b2f7-247535fa887f"
      },
      "execution_count": null,
      "outputs": [
        {
          "output_type": "execute_result",
          "data": {
            "text/plain": [
              "DataFrame[CountryName: string, CountryCode: string, IndicatorName: string, IndicatorCode: string, Year: int, Value: double]"
            ]
          },
          "metadata": {},
          "execution_count": 110
        }
      ]
    },
    {
      "cell_type": "code",
      "source": [
        "try:\n",
        "  %tensorflow_version 2.x \n",
        "except Exception:\n",
        "  pass\n",
        "\n",
        "!pip install tensorflow-io"
      ],
      "metadata": {
        "colab": {
          "base_uri": "https://localhost:8080/"
        },
        "id": "-Rftz161TJAX",
        "outputId": "35e73c70-46d5-40ad-98d8-cb8d694798fe"
      },
      "execution_count": null,
      "outputs": [
        {
          "output_type": "stream",
          "name": "stdout",
          "text": [
            "Colab only includes TensorFlow 2.x; %tensorflow_version has no effect.\n",
            "Looking in indexes: https://pypi.org/simple, https://us-python.pkg.dev/colab-wheels/public/simple/\n",
            "Collecting tensorflow-io\n",
            "  Downloading tensorflow_io-0.28.0-cp37-cp37m-manylinux_2_12_x86_64.manylinux2010_x86_64.whl (26.9 MB)\n",
            "\u001b[K     |████████████████████████████████| 26.9 MB 1.3 MB/s \n",
            "\u001b[?25hCollecting tensorflow-io-gcs-filesystem==0.28.0\n",
            "  Downloading tensorflow_io_gcs_filesystem-0.28.0-cp37-cp37m-manylinux_2_12_x86_64.manylinux2010_x86_64.whl (2.4 MB)\n",
            "\u001b[K     |████████████████████████████████| 2.4 MB 59.6 MB/s \n",
            "\u001b[?25hInstalling collected packages: tensorflow-io-gcs-filesystem, tensorflow-io\n",
            "  Attempting uninstall: tensorflow-io-gcs-filesystem\n",
            "    Found existing installation: tensorflow-io-gcs-filesystem 0.27.0\n",
            "    Uninstalling tensorflow-io-gcs-filesystem-0.27.0:\n",
            "      Successfully uninstalled tensorflow-io-gcs-filesystem-0.27.0\n",
            "Successfully installed tensorflow-io-0.28.0 tensorflow-io-gcs-filesystem-0.28.0\n"
          ]
        }
      ]
    },
    {
      "cell_type": "code",
      "source": [
        "!npm install azurite@2.7.0"
      ],
      "metadata": {
        "colab": {
          "base_uri": "https://localhost:8080/"
        },
        "id": "i7nCNk_vUu2r",
        "outputId": "2b72a390-3ce1-419e-f902-65b53756fc48"
      },
      "execution_count": null,
      "outputs": [
        {
          "output_type": "stream",
          "name": "stdout",
          "text": [
            "\u001b[K\u001b[?25h\u001b[37;40mnpm\u001b[0m \u001b[0m\u001b[30;43mWARN\u001b[0m \u001b[0m\u001b[35mdeprecated\u001b[0m request@2.87.0: request has been deprecated, see https://github.com/request/request/issues/3142\n",
            "\u001b[K\u001b[?25h\u001b[37;40mnpm\u001b[0m \u001b[0m\u001b[30;43mWARN\u001b[0m \u001b[0m\u001b[35mdeprecated\u001b[0m uuid@3.4.0: Please upgrade  to version 7 or higher.  Older versions may use Math.random() in certain circumstances, which is known to be problematic.  See https://v8.dev/blog/math-random for details.\n",
            "\u001b[K\u001b[?25h\u001b[37;40mnpm\u001b[0m \u001b[0m\u001b[30;43mWARN\u001b[0m \u001b[0m\u001b[35mdeprecated\u001b[0m har-validator@5.0.3: this library is no longer supported\n",
            "\u001b[K\u001b[?25h\u001b[37;40mnpm\u001b[0m \u001b[0m\u001b[30;43mWARN\u001b[0m \u001b[0m\u001b[35msaveError\u001b[0m ENOENT: no such file or directory, open '/content/package.json'\n",
            "\u001b[0m\u001b[37;40mnpm\u001b[0m \u001b[0m\u001b[34;40mnotice\u001b[0m\u001b[35m\u001b[0m created a lockfile as package-lock.json. You should commit this file.\n",
            "\u001b[0m\u001b[37;40mnpm\u001b[0m \u001b[0m\u001b[30;43mWARN\u001b[0m \u001b[0m\u001b[35menoent\u001b[0m ENOENT: no such file or directory, open '/content/package.json'\n",
            "\u001b[0m\u001b[37;40mnpm\u001b[0m \u001b[0m\u001b[30;43mWARN\u001b[0m\u001b[35m\u001b[0m content No description\n",
            "\u001b[0m\u001b[37;40mnpm\u001b[0m \u001b[0m\u001b[30;43mWARN\u001b[0m\u001b[35m\u001b[0m content No repository field.\n",
            "\u001b[0m\u001b[37;40mnpm\u001b[0m \u001b[0m\u001b[30;43mWARN\u001b[0m\u001b[35m\u001b[0m content No README data\n",
            "\u001b[0m\u001b[37;40mnpm\u001b[0m \u001b[0m\u001b[30;43mWARN\u001b[0m\u001b[35m\u001b[0m content No license field.\n",
            "\u001b[0m\n",
            "+ azurite@2.7.0\n",
            "added 125 packages from 144 contributors and audited 125 packages in 7.765s\n",
            "\n",
            "8 packages are looking for funding\n",
            "  run `npm fund` for details\n",
            "\n",
            "found 2 \u001b[93mmoderate\u001b[0m severity vulnerabilities\n",
            "  run `npm audit fix` to fix them, or `npm audit` for details\n",
            "\u001b[K\u001b[?25h"
          ]
        }
      ]
    },
    {
      "cell_type": "code",
      "source": [
        "# The path for npm might not be exposed in PATH env,\n",
        "# you can find it out through 'npm bin' command\n",
        "npm_bin_path = get_ipython().getoutput('npm bin')[0]\n",
        "print('npm bin path: ', npm_bin_path)\n",
        "\n",
        "# Run `azurite-blob -s` as a background process. \n",
        "# IPython doesn't recognize `&` in inline bash cells.\n",
        "get_ipython().system_raw(npm_bin_path + '/' + 'azurite-blob -s &')"
      ],
      "metadata": {
        "colab": {
          "base_uri": "https://localhost:8080/"
        },
        "id": "YbjfyeLDUyJ0",
        "outputId": "63e87019-a9a8-4205-d788-321f94e2f7ef"
      },
      "execution_count": null,
      "outputs": [
        {
          "output_type": "stream",
          "name": "stdout",
          "text": [
            "npm bin path:  /content/node_modules/.bin\n"
          ]
        }
      ]
    },
    {
      "cell_type": "code",
      "source": [
        "import os\n",
        "import tensorflow as tf\n",
        "import tensorflow_io as tfio\n",
        "\n",
        "# Switch to False to use Azure Storage instead:\n",
        "use_emulator = True\n",
        "\n",
        "if use_emulator:\n",
        "  os.environ['TF_AZURE_USE_DEV_STORAGE'] = '1'\n",
        "  account_name = 'devstoreaccount1'\n",
        "else:\n",
        "  # Replace <key> with Azure Storage Key, and <account> with Azure Storage Account\n",
        "  os.environ['TF_AZURE_STORAGE_KEY'] = '<key>'\n",
        "  account_name = 'divyanshpalia'\n",
        "\n",
        "\n",
        "  # Alternatively, you can use a shared access signature (SAS) to authenticate with the Azure Storage Account\n",
        "  os.environ['TF_AZURE_STORAGE_SAS'] = '<your sas>'\n",
        "  account_name = 'divyanshpalia'"
      ],
      "metadata": {
        "id": "rvUj7PdrU1hX"
      },
      "execution_count": null,
      "outputs": []
    },
    {
      "cell_type": "code",
      "source": [
        "pip install transport-co2"
      ],
      "metadata": {
        "colab": {
          "base_uri": "https://localhost:8080/"
        },
        "id": "4AEP9kRQVPWs",
        "outputId": "ef819504-8546-449d-c590-355c690433ee"
      },
      "execution_count": null,
      "outputs": [
        {
          "output_type": "stream",
          "name": "stdout",
          "text": [
            "Looking in indexes: https://pypi.org/simple, https://us-python.pkg.dev/colab-wheels/public/simple/\n",
            "Collecting transport-co2\n",
            "  Downloading transport_co2-0.3.0-py2.py3-none-any.whl (6.2 kB)\n",
            "Installing collected packages: transport-co2\n",
            "Successfully installed transport-co2-0.3.0\n"
          ]
        }
      ]
    },
    {
      "cell_type": "code",
      "source": [
        "from transport_co2 import Mode\n",
        "list(Mode)"
      ],
      "metadata": {
        "colab": {
          "base_uri": "https://localhost:8080/"
        },
        "id": "hRG3U9LmXXg0",
        "outputId": "0a872815-0306-4b8d-8c0f-54ef1e5cb0d4"
      },
      "execution_count": null,
      "outputs": [
        {
          "output_type": "execute_result",
          "data": {
            "text/plain": [
              "[<Mode.LIGHT_RAIL: (2184, 156)>,\n",
              " <Mode.SMALL_CAR: (168, 1.5)>,\n",
              " <Mode.LARGE_CAR: (220, 1.5)>,\n",
              " <Mode.SCOOTER: (86.4, 1.2)>,\n",
              " <Mode.BUS: (863, 12.7)>,\n",
              " <Mode.WALK: (0, 1)>,\n",
              " <Mode.CAR: (194, 1.5)>,\n",
              " <Mode.SUBWAY: (193.44, 31)>,\n",
              " <Mode.FERRY: (7425.6, 91)>,\n",
              " <Mode.TRANSIT: (1080.1466666666668, 66.56666666666666)>,\n",
              " <Mode.AIRPLANE: (25080, 88)>]"
            ]
          },
          "metadata": {},
          "execution_count": 54
        }
      ]
    },
    {
      "cell_type": "code",
      "source": [
        "Mode.SMALL_CAR.estimate_co2(distance_in_km=100)\n",
        "# 11200.0"
      ],
      "metadata": {
        "colab": {
          "base_uri": "https://localhost:8080/"
        },
        "id": "sEAuEABkXYrl",
        "outputId": "1e2a50d2-f96a-4f3e-aec7-d4464603e575"
      },
      "execution_count": null,
      "outputs": [
        {
          "output_type": "execute_result",
          "data": {
            "text/plain": [
              "11200.0"
            ]
          },
          "metadata": {},
          "execution_count": 55
        }
      ]
    },
    {
      "cell_type": "code",
      "source": [
        "Mode.SMALL_CAR.estimate_co2(distance_in_km=100, occupancy=3)\n",
        "# 5600.0"
      ],
      "metadata": {
        "colab": {
          "base_uri": "https://localhost:8080/"
        },
        "id": "LdWBvfXRXbQJ",
        "outputId": "086c46f2-a578-4109-9a98-f00993cba899"
      },
      "execution_count": null,
      "outputs": [
        {
          "output_type": "execute_result",
          "data": {
            "text/plain": [
              "5600.0"
            ]
          },
          "metadata": {},
          "execution_count": 56
        }
      ]
    },
    {
      "cell_type": "code",
      "source": [
        "from transport_co2 import estimate_co2\n",
        "estimate_co2(mode=\"light_rail\", distance_in_km=100)\n",
        "# 1400.0"
      ],
      "metadata": {
        "colab": {
          "base_uri": "https://localhost:8080/"
        },
        "id": "qFai0zvzXcur",
        "outputId": "163ee313-84ec-4811-bd12-3c7d29d58207"
      },
      "execution_count": null,
      "outputs": [
        {
          "output_type": "execute_result",
          "data": {
            "text/plain": [
              "1400.0"
            ]
          },
          "metadata": {},
          "execution_count": 57
        }
      ]
    },
    {
      "cell_type": "code",
      "source": [
        "estimate_co2(mode=\"light_rail\", distance_in_km=100, occupancy=250)\n",
        "# 873.6"
      ],
      "metadata": {
        "colab": {
          "base_uri": "https://localhost:8080/"
        },
        "id": "GrwjQHurXegF",
        "outputId": "07dd7150-0924-4c3a-ebd0-436c3b116924"
      },
      "execution_count": null,
      "outputs": [
        {
          "output_type": "execute_result",
          "data": {
            "text/plain": [
              "873.6"
            ]
          },
          "metadata": {},
          "execution_count": 58
        }
      ]
    },
    {
      "cell_type": "code",
      "source": [
        "pip install requests"
      ],
      "metadata": {
        "colab": {
          "base_uri": "https://localhost:8080/"
        },
        "id": "WZVoFNFPXgQy",
        "outputId": "177e9d09-256e-4688-fa56-cbb11f457b93"
      },
      "execution_count": null,
      "outputs": [
        {
          "output_type": "stream",
          "name": "stdout",
          "text": [
            "Looking in indexes: https://pypi.org/simple, https://us-python.pkg.dev/colab-wheels/public/simple/\n",
            "Requirement already satisfied: requests in /usr/local/lib/python3.7/dist-packages (2.23.0)\n",
            "Requirement already satisfied: chardet<4,>=3.0.2 in /usr/local/lib/python3.7/dist-packages (from requests) (3.0.4)\n",
            "Requirement already satisfied: urllib3!=1.25.0,!=1.25.1,<1.26,>=1.21.1 in /usr/local/lib/python3.7/dist-packages (from requests) (1.24.3)\n",
            "Requirement already satisfied: certifi>=2017.4.17 in /usr/local/lib/python3.7/dist-packages (from requests) (2022.9.24)\n",
            "Requirement already satisfied: idna<3,>=2.5 in /usr/local/lib/python3.7/dist-packages (from requests) (2.10)\n"
          ]
        }
      ]
    },
    {
      "cell_type": "code",
      "source": [
        "def get_data(self, api):\n",
        "        response = requests.get(f\"{api}\")\n",
        "        if response.status_code == 200:\n",
        "            print(\"sucessfully fetched the data\")\n",
        "            self.formatted_print(response.json())\n",
        "        else:\n",
        "            print(f\"Hello person, there's a {response.status_code} error with your request\")"
      ],
      "metadata": {
        "id": "Pb09eirJXp2v"
      },
      "execution_count": null,
      "outputs": []
    },
    {
      "cell_type": "code",
      "source": [
        "def get_user_data(self, api, parameters):\n",
        "        response = requests.get(f\"{api}\", params=parameters)\n",
        "        if response.status_code == 200:\n",
        "            print(\"sucessfully fetched the data with parameters provided\")\n",
        "            self.formatted_print(response.json())\n",
        "        else:\n",
        "            print(\n",
        "                f\"Hello person, there's a {response.status_code} error with your request\")"
      ],
      "metadata": {
        "id": "_S3YMm1jXstj"
      },
      "execution_count": null,
      "outputs": []
    },
    {
      "cell_type": "code",
      "source": [
        "import requests\n",
        "import json\n",
        "\n",
        "\n",
        "class MakeApiCall:\n",
        "\n",
        "    def get_data(self, api):\n",
        "        response = requests.get(f\"{api}\")\n",
        "        if response.status_code == 200:\n",
        "            print(\"sucessfully fetched the data\")\n",
        "            self.formatted_print(response.json())\n",
        "        else:\n",
        "            print(\n",
        "                f\"Hello person, there's a {response.status_code} error with your request\")\n",
        "\n",
        "    def get_user_data(self, api, parameters):\n",
        "        response = requests.get(f\"{api}\", params=parameters)\n",
        "        if response.status_code == 200:\n",
        "            print(\"sucessfully fetched the data with parameters provided\")\n",
        "            self.formatted_print(response.json())\n",
        "        else:\n",
        "            print(\n",
        "                f\"Hello person, there's a {response.status_code} error with your request\")\n",
        "\n",
        "    def formatted_print(self, obj):\n",
        "        text = json.dumps(obj, sort_keys=True, indent=4)\n",
        "        print(text)\n",
        "\n",
        "    def __init__(self, api):\n",
        "        # self.get_data(api)\n",
        "\n",
        "        parameters = {\n",
        "            \"username\": \"kedark\"\n",
        "        }\n",
        "        self.get_user_data(api, parameters)\n",
        "\n",
        "\n",
        "if __name__ == \"__main__\":\n",
        "    api_call = MakeApiCall(\"https://dev.to/api/articles\")"
      ],
      "metadata": {
        "colab": {
          "base_uri": "https://localhost:8080/"
        },
        "id": "JlxV_5ZgXwdc",
        "outputId": "a57377d6-be5f-458c-b249-d22685bc0903"
      },
      "execution_count": null,
      "outputs": [
        {
          "output_type": "stream",
          "name": "stdout",
          "text": [
            "sucessfully fetched the data with parameters provided\n",
            "[\n",
            "    {\n",
            "        \"canonical_url\": \"https://www.educative.io/edpresso/what-are-the-best-practices-while-using-bigquery\",\n",
            "        \"collection_id\": null,\n",
            "        \"comments_count\": 0,\n",
            "        \"cover_image\": \"https://res.cloudinary.com/practicaldev/image/fetch/s--7eTmSNsF--/c_imagga_scale,f_auto,fl_progressive,h_420,q_auto,w_1000/https://dev-to-uploads.s3.amazonaws.com/uploads/articles/tncraaf09jupdiwpgs9e.png\",\n",
            "        \"created_at\": \"2022-02-19T11:29:22Z\",\n",
            "        \"crossposted_at\": null,\n",
            "        \"description\": \"BigQuery is affordable and fast, but it can quickly consume a lot of processing power, increasing the...\",\n",
            "        \"edited_at\": null,\n",
            "        \"id\": 994437,\n",
            "        \"last_comment_at\": \"2022-02-19T11:35:37Z\",\n",
            "        \"path\": \"/kedark/what-are-the-best-practices-while-using-bigquery-3fcb\",\n",
            "        \"positive_reactions_count\": 11,\n",
            "        \"public_reactions_count\": 11,\n",
            "        \"published_at\": \"2022-02-19T11:35:37Z\",\n",
            "        \"published_timestamp\": \"2022-02-19T11:35:37Z\",\n",
            "        \"readable_publish_date\": \"Feb 19\",\n",
            "        \"reading_time_minutes\": 2,\n",
            "        \"slug\": \"what-are-the-best-practices-while-using-bigquery-3fcb\",\n",
            "        \"social_image\": \"https://res.cloudinary.com/practicaldev/image/fetch/s--RfGmeRED--/c_imagga_scale,f_auto,fl_progressive,h_500,q_auto,w_1000/https://dev-to-uploads.s3.amazonaws.com/uploads/articles/tncraaf09jupdiwpgs9e.png\",\n",
            "        \"tag_list\": [\n",
            "            \"bigdata\",\n",
            "            \"cloud\",\n",
            "            \"googlecloud\"\n",
            "        ],\n",
            "        \"tags\": \"bigdata, cloud, googlecloud\",\n",
            "        \"title\": \"What are the best practices while using BigQuery?\",\n",
            "        \"type_of\": \"article\",\n",
            "        \"url\": \"https://dev.to/kedark/what-are-the-best-practices-while-using-bigquery-3fcb\",\n",
            "        \"user\": {\n",
            "            \"github_username\": \"Kedar-K\",\n",
            "            \"name\": \"Kedar.K\",\n",
            "            \"profile_image\": \"https://res.cloudinary.com/practicaldev/image/fetch/s--dTagIo5I--/c_fill,f_auto,fl_progressive,h_640,q_auto,w_640/https://dev-to-uploads.s3.amazonaws.com/uploads/user/profile_image/107082/dcf5480b-5f8a-40ea-bca8-8b57c9a228fc.jpeg\",\n",
            "            \"profile_image_90\": \"https://res.cloudinary.com/practicaldev/image/fetch/s--gCp-02al--/c_fill,f_auto,fl_progressive,h_90,q_auto,w_90/https://dev-to-uploads.s3.amazonaws.com/uploads/user/profile_image/107082/dcf5480b-5f8a-40ea-bca8-8b57c9a228fc.jpeg\",\n",
            "            \"twitter_username\": \"KodgireKedar\",\n",
            "            \"user_id\": 107082,\n",
            "            \"username\": \"kedark\",\n",
            "            \"website_url\": \"https://kedar-k.github.io/Me\"\n",
            "        }\n",
            "    },\n",
            "    {\n",
            "        \"canonical_url\": \"https://www.educative.io/edpresso/what-is-horizontal-and-vertical-scaling\",\n",
            "        \"collection_id\": null,\n",
            "        \"comments_count\": 0,\n",
            "        \"cover_image\": \"https://res.cloudinary.com/practicaldev/image/fetch/s--nlpXQZPF--/c_imagga_scale,f_auto,fl_progressive,h_420,q_auto,w_1000/https://dev-to-uploads.s3.amazonaws.com/uploads/articles/9wh3d9iyaoacuptrs4st.png\",\n",
            "        \"created_at\": \"2021-09-30T18:03:08Z\",\n",
            "        \"crossposted_at\": null,\n",
            "        \"description\": \"Scaling implies adding or removing resources from your machine/application to perform the underlying...\",\n",
            "        \"edited_at\": null,\n",
            "        \"id\": 847069,\n",
            "        \"last_comment_at\": \"2021-09-30T18:13:25Z\",\n",
            "        \"path\": \"/kedark/what-is-horizontal-and-vertical-scaling-2139\",\n",
            "        \"positive_reactions_count\": 9,\n",
            "        \"public_reactions_count\": 9,\n",
            "        \"published_at\": \"2021-09-30T18:13:25Z\",\n",
            "        \"published_timestamp\": \"2021-09-30T18:13:25Z\",\n",
            "        \"readable_publish_date\": \"Sep 30 '21\",\n",
            "        \"reading_time_minutes\": 2,\n",
            "        \"slug\": \"what-is-horizontal-and-vertical-scaling-2139\",\n",
            "        \"social_image\": \"https://res.cloudinary.com/practicaldev/image/fetch/s--5Q9Ntuom--/c_imagga_scale,f_auto,fl_progressive,h_500,q_auto,w_1000/https://dev-to-uploads.s3.amazonaws.com/uploads/articles/9wh3d9iyaoacuptrs4st.png\",\n",
            "        \"tag_list\": [\n",
            "            \"database\",\n",
            "            \"scaling\"\n",
            "        ],\n",
            "        \"tags\": \"database, scaling\",\n",
            "        \"title\": \"What is horizontal and vertical scaling?\\n\",\n",
            "        \"type_of\": \"article\",\n",
            "        \"url\": \"https://dev.to/kedark/what-is-horizontal-and-vertical-scaling-2139\",\n",
            "        \"user\": {\n",
            "            \"github_username\": \"Kedar-K\",\n",
            "            \"name\": \"Kedar.K\",\n",
            "            \"profile_image\": \"https://res.cloudinary.com/practicaldev/image/fetch/s--dTagIo5I--/c_fill,f_auto,fl_progressive,h_640,q_auto,w_640/https://dev-to-uploads.s3.amazonaws.com/uploads/user/profile_image/107082/dcf5480b-5f8a-40ea-bca8-8b57c9a228fc.jpeg\",\n",
            "            \"profile_image_90\": \"https://res.cloudinary.com/practicaldev/image/fetch/s--gCp-02al--/c_fill,f_auto,fl_progressive,h_90,q_auto,w_90/https://dev-to-uploads.s3.amazonaws.com/uploads/user/profile_image/107082/dcf5480b-5f8a-40ea-bca8-8b57c9a228fc.jpeg\",\n",
            "            \"twitter_username\": \"KodgireKedar\",\n",
            "            \"user_id\": 107082,\n",
            "            \"username\": \"kedark\",\n",
            "            \"website_url\": \"https://kedar-k.github.io/Me\"\n",
            "        }\n",
            "    },\n",
            "    {\n",
            "        \"canonical_url\": \"https://www.educative.io/edpresso/what-is-overfitting-in-machine-learning\",\n",
            "        \"collection_id\": null,\n",
            "        \"comments_count\": 0,\n",
            "        \"cover_image\": \"https://res.cloudinary.com/practicaldev/image/fetch/s--mi2VXEKb--/c_imagga_scale,f_auto,fl_progressive,h_420,q_auto,w_1000/https://dev-to-uploads.s3.amazonaws.com/uploads/articles/78vs3bpxkgezh4s6c070.png\",\n",
            "        \"created_at\": \"2021-09-11T18:16:06Z\",\n",
            "        \"crossposted_at\": null,\n",
            "        \"description\": \"Overfitting is a common challenge to overcome while training machine learning models.  To understand...\",\n",
            "        \"edited_at\": null,\n",
            "        \"id\": 820940,\n",
            "        \"last_comment_at\": \"2021-09-11T18:25:19Z\",\n",
            "        \"path\": \"/kedark/what-is-overfitting-in-machine-learning-4ga2\",\n",
            "        \"positive_reactions_count\": 4,\n",
            "        \"public_reactions_count\": 4,\n",
            "        \"published_at\": \"2021-09-11T18:25:19Z\",\n",
            "        \"published_timestamp\": \"2021-09-11T18:25:19Z\",\n",
            "        \"readable_publish_date\": \"Sep 11 '21\",\n",
            "        \"reading_time_minutes\": 2,\n",
            "        \"slug\": \"what-is-overfitting-in-machine-learning-4ga2\",\n",
            "        \"social_image\": \"https://res.cloudinary.com/practicaldev/image/fetch/s--Lbh4gTZX--/c_imagga_scale,f_auto,fl_progressive,h_500,q_auto,w_1000/https://dev-to-uploads.s3.amazonaws.com/uploads/articles/78vs3bpxkgezh4s6c070.png\",\n",
            "        \"tag_list\": [\n",
            "            \"machinelearning\"\n",
            "        ],\n",
            "        \"tags\": \"machinelearning\",\n",
            "        \"title\": \"What is overfitting in machine learning?\",\n",
            "        \"type_of\": \"article\",\n",
            "        \"url\": \"https://dev.to/kedark/what-is-overfitting-in-machine-learning-4ga2\",\n",
            "        \"user\": {\n",
            "            \"github_username\": \"Kedar-K\",\n",
            "            \"name\": \"Kedar.K\",\n",
            "            \"profile_image\": \"https://res.cloudinary.com/practicaldev/image/fetch/s--dTagIo5I--/c_fill,f_auto,fl_progressive,h_640,q_auto,w_640/https://dev-to-uploads.s3.amazonaws.com/uploads/user/profile_image/107082/dcf5480b-5f8a-40ea-bca8-8b57c9a228fc.jpeg\",\n",
            "            \"profile_image_90\": \"https://res.cloudinary.com/practicaldev/image/fetch/s--gCp-02al--/c_fill,f_auto,fl_progressive,h_90,q_auto,w_90/https://dev-to-uploads.s3.amazonaws.com/uploads/user/profile_image/107082/dcf5480b-5f8a-40ea-bca8-8b57c9a228fc.jpeg\",\n",
            "            \"twitter_username\": \"KodgireKedar\",\n",
            "            \"user_id\": 107082,\n",
            "            \"username\": \"kedark\",\n",
            "            \"website_url\": \"https://kedar-k.github.io/Me\"\n",
            "        }\n",
            "    },\n",
            "    {\n",
            "        \"canonical_url\": \"https://dev.to/kedark/what-is-nohup-in-linux-1fej\",\n",
            "        \"collection_id\": null,\n",
            "        \"comments_count\": 2,\n",
            "        \"cover_image\": \"https://res.cloudinary.com/practicaldev/image/fetch/s--wg1GmRgC--/c_imagga_scale,f_auto,fl_progressive,h_420,q_auto,w_1000/https://dev-to-uploads.s3.amazonaws.com/uploads/articles/zo7hnmrua939w45nx661.png\",\n",
            "        \"created_at\": \"2021-08-15T19:00:08Z\",\n",
            "        \"crossposted_at\": null,\n",
            "        \"description\": \"When we execute a command in Linux, it creates our process in the background and assigns a unique...\",\n",
            "        \"edited_at\": null,\n",
            "        \"id\": 792707,\n",
            "        \"last_comment_at\": \"2021-08-17T01:29:20Z\",\n",
            "        \"path\": \"/kedark/what-is-nohup-in-linux-1fej\",\n",
            "        \"positive_reactions_count\": 13,\n",
            "        \"public_reactions_count\": 13,\n",
            "        \"published_at\": \"2021-08-15T19:23:29Z\",\n",
            "        \"published_timestamp\": \"2021-08-15T19:23:29Z\",\n",
            "        \"readable_publish_date\": \"Aug 15 '21\",\n",
            "        \"reading_time_minutes\": 2,\n",
            "        \"slug\": \"what-is-nohup-in-linux-1fej\",\n",
            "        \"social_image\": \"https://res.cloudinary.com/practicaldev/image/fetch/s--zCVKy8H5--/c_imagga_scale,f_auto,fl_progressive,h_500,q_auto,w_1000/https://dev-to-uploads.s3.amazonaws.com/uploads/articles/zo7hnmrua939w45nx661.png\",\n",
            "        \"tag_list\": [\n",
            "            \"linux\",\n",
            "            \"bash\",\n",
            "            \"computerscience\",\n",
            "            \"codenewbie\"\n",
            "        ],\n",
            "        \"tags\": \"linux, bash, computerscience, codenewbie\",\n",
            "        \"title\": \"What is nohup in Linux?\",\n",
            "        \"type_of\": \"article\",\n",
            "        \"url\": \"https://dev.to/kedark/what-is-nohup-in-linux-1fej\",\n",
            "        \"user\": {\n",
            "            \"github_username\": \"Kedar-K\",\n",
            "            \"name\": \"Kedar.K\",\n",
            "            \"profile_image\": \"https://res.cloudinary.com/practicaldev/image/fetch/s--dTagIo5I--/c_fill,f_auto,fl_progressive,h_640,q_auto,w_640/https://dev-to-uploads.s3.amazonaws.com/uploads/user/profile_image/107082/dcf5480b-5f8a-40ea-bca8-8b57c9a228fc.jpeg\",\n",
            "            \"profile_image_90\": \"https://res.cloudinary.com/practicaldev/image/fetch/s--gCp-02al--/c_fill,f_auto,fl_progressive,h_90,q_auto,w_90/https://dev-to-uploads.s3.amazonaws.com/uploads/user/profile_image/107082/dcf5480b-5f8a-40ea-bca8-8b57c9a228fc.jpeg\",\n",
            "            \"twitter_username\": \"KodgireKedar\",\n",
            "            \"user_id\": 107082,\n",
            "            \"username\": \"kedark\",\n",
            "            \"website_url\": \"https://kedar-k.github.io/Me\"\n",
            "        }\n",
            "    },\n",
            "    {\n",
            "        \"canonical_url\": \"https://dev.to/kedark/must-have-tools-for-bloggers-1jd1\",\n",
            "        \"collection_id\": null,\n",
            "        \"comments_count\": 8,\n",
            "        \"cover_image\": \"https://res.cloudinary.com/practicaldev/image/fetch/s--BClcENc5--/c_imagga_scale,f_auto,fl_progressive,h_420,q_auto,w_1000/https://dev-to-uploads.s3.amazonaws.com/uploads/articles/xfura4ny47nxk77980q3.jpeg\",\n",
            "        \"created_at\": \"2021-08-02T21:21:14Z\",\n",
            "        \"crossposted_at\": null,\n",
            "        \"description\": \"No promotions included; this is genuinely for helping dev bloggers like me. Some tools below are...\",\n",
            "        \"edited_at\": null,\n",
            "        \"id\": 779710,\n",
            "        \"last_comment_at\": \"2021-10-17T17:37:20Z\",\n",
            "        \"path\": \"/kedark/must-have-tools-for-bloggers-1jd1\",\n",
            "        \"positive_reactions_count\": 52,\n",
            "        \"public_reactions_count\": 52,\n",
            "        \"published_at\": \"2021-08-14T11:10:06Z\",\n",
            "        \"published_timestamp\": \"2021-08-14T11:10:06Z\",\n",
            "        \"readable_publish_date\": \"Aug 14 '21\",\n",
            "        \"reading_time_minutes\": 4,\n",
            "        \"slug\": \"must-have-tools-for-bloggers-1jd1\",\n",
            "        \"social_image\": \"https://res.cloudinary.com/practicaldev/image/fetch/s--7r_zRWVE--/c_imagga_scale,f_auto,fl_progressive,h_500,q_auto,w_1000/https://dev-to-uploads.s3.amazonaws.com/uploads/articles/xfura4ny47nxk77980q3.jpeg\",\n",
            "        \"tag_list\": [\n",
            "            \"writing\",\n",
            "            \"beginners\",\n",
            "            \"tutorial\"\n",
            "        ],\n",
            "        \"tags\": \"writing, beginners, tutorial\",\n",
            "        \"title\": \"Must have tools for bloggers.\",\n",
            "        \"type_of\": \"article\",\n",
            "        \"url\": \"https://dev.to/kedark/must-have-tools-for-bloggers-1jd1\",\n",
            "        \"user\": {\n",
            "            \"github_username\": \"Kedar-K\",\n",
            "            \"name\": \"Kedar.K\",\n",
            "            \"profile_image\": \"https://res.cloudinary.com/practicaldev/image/fetch/s--dTagIo5I--/c_fill,f_auto,fl_progressive,h_640,q_auto,w_640/https://dev-to-uploads.s3.amazonaws.com/uploads/user/profile_image/107082/dcf5480b-5f8a-40ea-bca8-8b57c9a228fc.jpeg\",\n",
            "            \"profile_image_90\": \"https://res.cloudinary.com/practicaldev/image/fetch/s--gCp-02al--/c_fill,f_auto,fl_progressive,h_90,q_auto,w_90/https://dev-to-uploads.s3.amazonaws.com/uploads/user/profile_image/107082/dcf5480b-5f8a-40ea-bca8-8b57c9a228fc.jpeg\",\n",
            "            \"twitter_username\": \"KodgireKedar\",\n",
            "            \"user_id\": 107082,\n",
            "            \"username\": \"kedark\",\n",
            "            \"website_url\": \"https://kedar-k.github.io/Me\"\n",
            "        }\n",
            "    },\n",
            "    {\n",
            "        \"canonical_url\": \"https://dev.to/kedark/making-api-calls-in-python-17pk\",\n",
            "        \"collection_id\": null,\n",
            "        \"comments_count\": 0,\n",
            "        \"cover_image\": \"https://res.cloudinary.com/practicaldev/image/fetch/s--iB3_d_jF--/c_imagga_scale,f_auto,fl_progressive,h_420,q_auto,w_1000/https://dev-to-uploads.s3.amazonaws.com/uploads/articles/gokd0ht26uqxuw4devee.png\",\n",
            "        \"created_at\": \"2021-07-03T16:34:55Z\",\n",
            "        \"crossposted_at\": null,\n",
            "        \"description\": \"Scope: This post will help you learn to make API calls using python to fetch data (GET...\",\n",
            "        \"edited_at\": null,\n",
            "        \"id\": 747212,\n",
            "        \"last_comment_at\": \"2021-07-11T11:40:45Z\",\n",
            "        \"path\": \"/kedark/making-api-calls-in-python-17pk\",\n",
            "        \"positive_reactions_count\": 22,\n",
            "        \"public_reactions_count\": 22,\n",
            "        \"published_at\": \"2021-07-11T11:40:45Z\",\n",
            "        \"published_timestamp\": \"2021-07-11T11:40:45Z\",\n",
            "        \"readable_publish_date\": \"Jul 11 '21\",\n",
            "        \"reading_time_minutes\": 4,\n",
            "        \"slug\": \"making-api-calls-in-python-17pk\",\n",
            "        \"social_image\": \"https://res.cloudinary.com/practicaldev/image/fetch/s--9vOwHRku--/c_imagga_scale,f_auto,fl_progressive,h_500,q_auto,w_1000/https://dev-to-uploads.s3.amazonaws.com/uploads/articles/gokd0ht26uqxuw4devee.png\",\n",
            "        \"tag_list\": [\n",
            "            \"python\",\n",
            "            \"datascience\",\n",
            "            \"programming\",\n",
            "            \"machinelearning\"\n",
            "        ],\n",
            "        \"tags\": \"python, datascience, programming, machinelearning\",\n",
            "        \"title\": \"Making API calls in python\",\n",
            "        \"type_of\": \"article\",\n",
            "        \"url\": \"https://dev.to/kedark/making-api-calls-in-python-17pk\",\n",
            "        \"user\": {\n",
            "            \"github_username\": \"Kedar-K\",\n",
            "            \"name\": \"Kedar.K\",\n",
            "            \"profile_image\": \"https://res.cloudinary.com/practicaldev/image/fetch/s--dTagIo5I--/c_fill,f_auto,fl_progressive,h_640,q_auto,w_640/https://dev-to-uploads.s3.amazonaws.com/uploads/user/profile_image/107082/dcf5480b-5f8a-40ea-bca8-8b57c9a228fc.jpeg\",\n",
            "            \"profile_image_90\": \"https://res.cloudinary.com/practicaldev/image/fetch/s--gCp-02al--/c_fill,f_auto,fl_progressive,h_90,q_auto,w_90/https://dev-to-uploads.s3.amazonaws.com/uploads/user/profile_image/107082/dcf5480b-5f8a-40ea-bca8-8b57c9a228fc.jpeg\",\n",
            "            \"twitter_username\": \"KodgireKedar\",\n",
            "            \"user_id\": 107082,\n",
            "            \"username\": \"kedark\",\n",
            "            \"website_url\": \"https://kedar-k.github.io/Me\"\n",
            "        }\n",
            "    },\n",
            "    {\n",
            "        \"canonical_url\": \"https://dev.to/kedark/pillars-of-oops-in-python-k6a\",\n",
            "        \"collection_id\": null,\n",
            "        \"comments_count\": 2,\n",
            "        \"cover_image\": \"https://res.cloudinary.com/practicaldev/image/fetch/s--oy96_hZB--/c_imagga_scale,f_auto,fl_progressive,h_420,q_auto,w_1000/https://dev-to-uploads.s3.amazonaws.com/uploads/articles/7b9uldn6v19e14j6y2ga.png\",\n",
            "        \"created_at\": \"2021-05-23T11:22:29Z\",\n",
            "        \"crossposted_at\": null,\n",
            "        \"description\": \"The scope of this article is to help you understand the concepts of oops quickly and not an in-depth...\",\n",
            "        \"edited_at\": null,\n",
            "        \"id\": 706316,\n",
            "        \"last_comment_at\": \"2021-08-07T10:33:22Z\",\n",
            "        \"path\": \"/kedark/pillars-of-oops-in-python-k6a\",\n",
            "        \"positive_reactions_count\": 28,\n",
            "        \"public_reactions_count\": 28,\n",
            "        \"published_at\": \"2021-07-02T12:33:51Z\",\n",
            "        \"published_timestamp\": \"2021-07-02T12:33:51Z\",\n",
            "        \"readable_publish_date\": \"Jul 2 '21\",\n",
            "        \"reading_time_minutes\": 5,\n",
            "        \"slug\": \"pillars-of-oops-in-python-k6a\",\n",
            "        \"social_image\": \"https://res.cloudinary.com/practicaldev/image/fetch/s--Uom-o41T--/c_imagga_scale,f_auto,fl_progressive,h_500,q_auto,w_1000/https://dev-to-uploads.s3.amazonaws.com/uploads/articles/7b9uldn6v19e14j6y2ga.png\",\n",
            "        \"tag_list\": [\n",
            "            \"python\",\n",
            "            \"programming\",\n",
            "            \"oop\"\n",
            "        ],\n",
            "        \"tags\": \"python, programming, oop\",\n",
            "        \"title\": \"Pillars of OOPS (in python)\",\n",
            "        \"type_of\": \"article\",\n",
            "        \"url\": \"https://dev.to/kedark/pillars-of-oops-in-python-k6a\",\n",
            "        \"user\": {\n",
            "            \"github_username\": \"Kedar-K\",\n",
            "            \"name\": \"Kedar.K\",\n",
            "            \"profile_image\": \"https://res.cloudinary.com/practicaldev/image/fetch/s--dTagIo5I--/c_fill,f_auto,fl_progressive,h_640,q_auto,w_640/https://dev-to-uploads.s3.amazonaws.com/uploads/user/profile_image/107082/dcf5480b-5f8a-40ea-bca8-8b57c9a228fc.jpeg\",\n",
            "            \"profile_image_90\": \"https://res.cloudinary.com/practicaldev/image/fetch/s--gCp-02al--/c_fill,f_auto,fl_progressive,h_90,q_auto,w_90/https://dev-to-uploads.s3.amazonaws.com/uploads/user/profile_image/107082/dcf5480b-5f8a-40ea-bca8-8b57c9a228fc.jpeg\",\n",
            "            \"twitter_username\": \"KodgireKedar\",\n",
            "            \"user_id\": 107082,\n",
            "            \"username\": \"kedark\",\n",
            "            \"website_url\": \"https://kedar-k.github.io/Me\"\n",
            "        }\n",
            "    },\n",
            "    {\n",
            "        \"canonical_url\": \"https://dev.to/kedark/twitter-automation-automatically-tweets-about-your-new-blog-on-dev-to-2nkk\",\n",
            "        \"collection_id\": null,\n",
            "        \"comments_count\": 0,\n",
            "        \"cover_image\": \"https://res.cloudinary.com/practicaldev/image/fetch/s--A2N8amMu--/c_imagga_scale,f_auto,fl_progressive,h_420,q_auto,w_1000/https://dev-to-uploads.s3.amazonaws.com/uploads/articles/x2xlky3b97oo8kitp0af.png\",\n",
            "        \"created_at\": \"2021-03-20T11:20:19Z\",\n",
            "        \"crossposted_at\": null,\n",
            "        \"description\": \"Hello there, If you are reading this article chances are you also write articles on DEV.to. And you m...\",\n",
            "        \"edited_at\": null,\n",
            "        \"id\": 640406,\n",
            "        \"last_comment_at\": \"2021-03-29T20:24:01Z\",\n",
            "        \"path\": \"/kedark/twitter-automation-automatically-tweets-about-your-new-blog-on-dev-to-2nkk\",\n",
            "        \"positive_reactions_count\": 10,\n",
            "        \"public_reactions_count\": 10,\n",
            "        \"published_at\": \"2021-03-29T20:24:01Z\",\n",
            "        \"published_timestamp\": \"2021-03-29T20:24:01Z\",\n",
            "        \"readable_publish_date\": \"Mar 29 '21\",\n",
            "        \"reading_time_minutes\": 5,\n",
            "        \"slug\": \"twitter-automation-automatically-tweets-about-your-new-blog-on-dev-to-2nkk\",\n",
            "        \"social_image\": \"https://res.cloudinary.com/practicaldev/image/fetch/s--RxNFKCiK--/c_imagga_scale,f_auto,fl_progressive,h_500,q_auto,w_1000/https://dev-to-uploads.s3.amazonaws.com/uploads/articles/x2xlky3b97oo8kitp0af.png\",\n",
            "        \"tag_list\": [\n",
            "            \"node\",\n",
            "            \"react\",\n",
            "            \"twitter\",\n",
            "            \"javascript\"\n",
            "        ],\n",
            "        \"tags\": \"node, react, twitter, javascript\",\n",
            "        \"title\": \"Twitter Automation - automatically tweets about your new blog on DEV.to\",\n",
            "        \"type_of\": \"article\",\n",
            "        \"url\": \"https://dev.to/kedark/twitter-automation-automatically-tweets-about-your-new-blog-on-dev-to-2nkk\",\n",
            "        \"user\": {\n",
            "            \"github_username\": \"Kedar-K\",\n",
            "            \"name\": \"Kedar.K\",\n",
            "            \"profile_image\": \"https://res.cloudinary.com/practicaldev/image/fetch/s--dTagIo5I--/c_fill,f_auto,fl_progressive,h_640,q_auto,w_640/https://dev-to-uploads.s3.amazonaws.com/uploads/user/profile_image/107082/dcf5480b-5f8a-40ea-bca8-8b57c9a228fc.jpeg\",\n",
            "            \"profile_image_90\": \"https://res.cloudinary.com/practicaldev/image/fetch/s--gCp-02al--/c_fill,f_auto,fl_progressive,h_90,q_auto,w_90/https://dev-to-uploads.s3.amazonaws.com/uploads/user/profile_image/107082/dcf5480b-5f8a-40ea-bca8-8b57c9a228fc.jpeg\",\n",
            "            \"twitter_username\": \"KodgireKedar\",\n",
            "            \"user_id\": 107082,\n",
            "            \"username\": \"kedark\",\n",
            "            \"website_url\": \"https://kedar-k.github.io/Me\"\n",
            "        }\n",
            "    },\n",
            "    {\n",
            "        \"canonical_url\": \"https://dev.to/kedark/10-unique-vs-code-extensions-boost-your-productivity-8e7\",\n",
            "        \"collection_id\": null,\n",
            "        \"comments_count\": 9,\n",
            "        \"cover_image\": \"https://res.cloudinary.com/practicaldev/image/fetch/s--En0aTZJT--/c_imagga_scale,f_auto,fl_progressive,h_420,q_auto,w_1000/https://dev-to-uploads.s3.amazonaws.com/i/j3txuqcf1oxnq78gef2c.png\",\n",
            "        \"created_at\": \"2021-01-02T16:51:13Z\",\n",
            "        \"crossposted_at\": null,\n",
            "        \"description\": \"1. Todo Tree    This extension is very useful if you have a habit of writing to-do lists whi...\",\n",
            "        \"edited_at\": \"2021-01-21T17:31:07Z\",\n",
            "        \"id\": 559150,\n",
            "        \"last_comment_at\": \"2021-01-20T12:49:49Z\",\n",
            "        \"path\": \"/kedark/10-unique-vs-code-extensions-boost-your-productivity-8e7\",\n",
            "        \"positive_reactions_count\": 174,\n",
            "        \"public_reactions_count\": 174,\n",
            "        \"published_at\": \"2021-01-06T19:20:43Z\",\n",
            "        \"published_timestamp\": \"2021-01-06T19:20:43Z\",\n",
            "        \"readable_publish_date\": \"Jan 6 '21\",\n",
            "        \"reading_time_minutes\": 4,\n",
            "        \"slug\": \"10-unique-vs-code-extensions-boost-your-productivity-8e7\",\n",
            "        \"social_image\": \"https://res.cloudinary.com/practicaldev/image/fetch/s--teBVV7tZ--/c_imagga_scale,f_auto,fl_progressive,h_500,q_auto,w_1000/https://dev-to-uploads.s3.amazonaws.com/i/j3txuqcf1oxnq78gef2c.png\",\n",
            "        \"tag_list\": [\n",
            "            \"productivity\",\n",
            "            \"vscode\",\n",
            "            \"webdev\",\n",
            "            \"github\"\n",
            "        ],\n",
            "        \"tags\": \"productivity, vscode, webdev, github\",\n",
            "        \"title\": \"10 Unique VS code extensions- Boost Your Productivity\\ud83d\\ude0e\",\n",
            "        \"type_of\": \"article\",\n",
            "        \"url\": \"https://dev.to/kedark/10-unique-vs-code-extensions-boost-your-productivity-8e7\",\n",
            "        \"user\": {\n",
            "            \"github_username\": \"Kedar-K\",\n",
            "            \"name\": \"Kedar.K\",\n",
            "            \"profile_image\": \"https://res.cloudinary.com/practicaldev/image/fetch/s--dTagIo5I--/c_fill,f_auto,fl_progressive,h_640,q_auto,w_640/https://dev-to-uploads.s3.amazonaws.com/uploads/user/profile_image/107082/dcf5480b-5f8a-40ea-bca8-8b57c9a228fc.jpeg\",\n",
            "            \"profile_image_90\": \"https://res.cloudinary.com/practicaldev/image/fetch/s--gCp-02al--/c_fill,f_auto,fl_progressive,h_90,q_auto,w_90/https://dev-to-uploads.s3.amazonaws.com/uploads/user/profile_image/107082/dcf5480b-5f8a-40ea-bca8-8b57c9a228fc.jpeg\",\n",
            "            \"twitter_username\": \"KodgireKedar\",\n",
            "            \"user_id\": 107082,\n",
            "            \"username\": \"kedark\",\n",
            "            \"website_url\": \"https://kedar-k.github.io/Me\"\n",
            "        }\n",
            "    },\n",
            "    {\n",
            "        \"canonical_url\": \"https://dev.to/kedark/i-did-exploratory-data-analysis-on-medium-blogs-which-can-answer-on-what-day-to-post-a-blog-etc-2p3n\",\n",
            "        \"collection_id\": null,\n",
            "        \"comments_count\": 0,\n",
            "        \"cover_image\": \"https://res.cloudinary.com/practicaldev/image/fetch/s--v8HBTbnx--/c_imagga_scale,f_auto,fl_progressive,h_420,q_auto,w_1000/https://dev-to-uploads.s3.amazonaws.com/i/rhue6dwgbayar5tcfbx0.png\",\n",
            "        \"created_at\": \"2020-12-02T19:05:57Z\",\n",
            "        \"crossposted_at\": null,\n",
            "        \"description\": \"Note: The results you see below may not be 100% correct. This analysis is based on a dataset that has...\",\n",
            "        \"edited_at\": \"2020-12-03T19:09:40Z\",\n",
            "        \"id\": 530923,\n",
            "        \"last_comment_at\": \"2020-12-03T18:37:00Z\",\n",
            "        \"path\": \"/kedark/i-did-exploratory-data-analysis-on-medium-blogs-which-can-answer-on-what-day-to-post-a-blog-etc-2p3n\",\n",
            "        \"positive_reactions_count\": 10,\n",
            "        \"public_reactions_count\": 10,\n",
            "        \"published_at\": \"2020-12-03T18:37:00Z\",\n",
            "        \"published_timestamp\": \"2020-12-03T18:37:00Z\",\n",
            "        \"readable_publish_date\": \"Dec 3 '20\",\n",
            "        \"reading_time_minutes\": 5,\n",
            "        \"slug\": \"i-did-exploratory-data-analysis-on-medium-blogs-which-can-answer-on-what-day-to-post-a-blog-etc-2p3n\",\n",
            "        \"social_image\": \"https://res.cloudinary.com/practicaldev/image/fetch/s--aXEMffk_--/c_imagga_scale,f_auto,fl_progressive,h_500,q_auto,w_1000/https://dev-to-uploads.s3.amazonaws.com/i/rhue6dwgbayar5tcfbx0.png\",\n",
            "        \"tag_list\": [\n",
            "            \"python\",\n",
            "            \"datascience\",\n",
            "            \"webdev\",\n",
            "            \"writing\"\n",
            "        ],\n",
            "        \"tags\": \"python, datascience, webdev, writing\",\n",
            "        \"title\": \"I did Exploratory data analysis on Medium blogs. which can answer: On what day to post a blog, etc.\",\n",
            "        \"type_of\": \"article\",\n",
            "        \"url\": \"https://dev.to/kedark/i-did-exploratory-data-analysis-on-medium-blogs-which-can-answer-on-what-day-to-post-a-blog-etc-2p3n\",\n",
            "        \"user\": {\n",
            "            \"github_username\": \"Kedar-K\",\n",
            "            \"name\": \"Kedar.K\",\n",
            "            \"profile_image\": \"https://res.cloudinary.com/practicaldev/image/fetch/s--dTagIo5I--/c_fill,f_auto,fl_progressive,h_640,q_auto,w_640/https://dev-to-uploads.s3.amazonaws.com/uploads/user/profile_image/107082/dcf5480b-5f8a-40ea-bca8-8b57c9a228fc.jpeg\",\n",
            "            \"profile_image_90\": \"https://res.cloudinary.com/practicaldev/image/fetch/s--gCp-02al--/c_fill,f_auto,fl_progressive,h_90,q_auto,w_90/https://dev-to-uploads.s3.amazonaws.com/uploads/user/profile_image/107082/dcf5480b-5f8a-40ea-bca8-8b57c9a228fc.jpeg\",\n",
            "            \"twitter_username\": \"KodgireKedar\",\n",
            "            \"user_id\": 107082,\n",
            "            \"username\": \"kedark\",\n",
            "            \"website_url\": \"https://kedar-k.github.io/Me\"\n",
            "        }\n",
            "    },\n",
            "    {\n",
            "        \"canonical_url\": \"https://dev.to/kedark/free-illustration-design-resources-part-2-4e90\",\n",
            "        \"collection_id\": 5624,\n",
            "        \"comments_count\": 0,\n",
            "        \"cover_image\": \"https://res.cloudinary.com/practicaldev/image/fetch/s--TX7dAiGs--/c_imagga_scale,f_auto,fl_progressive,h_420,q_auto,w_1000/https://dev-to-uploads.s3.amazonaws.com/i/yj2a1vll3t0sdep29zcc.png\",\n",
            "        \"created_at\": \"2020-11-23T08:26:45Z\",\n",
            "        \"crossposted_at\": null,\n",
            "        \"description\": \"This is a sequence of my previous post.                                        Free illustrations res...\",\n",
            "        \"edited_at\": null,\n",
            "        \"id\": 522702,\n",
            "        \"last_comment_at\": \"2020-11-24T14:13:22Z\",\n",
            "        \"path\": \"/kedark/free-illustration-design-resources-part-2-4e90\",\n",
            "        \"positive_reactions_count\": 27,\n",
            "        \"public_reactions_count\": 27,\n",
            "        \"published_at\": \"2020-11-24T14:13:22Z\",\n",
            "        \"published_timestamp\": \"2020-11-24T14:13:22Z\",\n",
            "        \"readable_publish_date\": \"Nov 24 '20\",\n",
            "        \"reading_time_minutes\": 2,\n",
            "        \"slug\": \"free-illustration-design-resources-part-2-4e90\",\n",
            "        \"social_image\": \"https://res.cloudinary.com/practicaldev/image/fetch/s--6V0-a3Yv--/c_imagga_scale,f_auto,fl_progressive,h_500,q_auto,w_1000/https://dev-to-uploads.s3.amazonaws.com/i/yj2a1vll3t0sdep29zcc.png\",\n",
            "        \"tag_list\": [\n",
            "            \"webdev\",\n",
            "            \"design\",\n",
            "            \"uiweekly\",\n",
            "            \"ux\"\n",
            "        ],\n",
            "        \"tags\": \"webdev, design, uiweekly, ux\",\n",
            "        \"title\": \"Free Illustration/Design Resources (Part - 2)\",\n",
            "        \"type_of\": \"article\",\n",
            "        \"url\": \"https://dev.to/kedark/free-illustration-design-resources-part-2-4e90\",\n",
            "        \"user\": {\n",
            "            \"github_username\": \"Kedar-K\",\n",
            "            \"name\": \"Kedar.K\",\n",
            "            \"profile_image\": \"https://res.cloudinary.com/practicaldev/image/fetch/s--dTagIo5I--/c_fill,f_auto,fl_progressive,h_640,q_auto,w_640/https://dev-to-uploads.s3.amazonaws.com/uploads/user/profile_image/107082/dcf5480b-5f8a-40ea-bca8-8b57c9a228fc.jpeg\",\n",
            "            \"profile_image_90\": \"https://res.cloudinary.com/practicaldev/image/fetch/s--gCp-02al--/c_fill,f_auto,fl_progressive,h_90,q_auto,w_90/https://dev-to-uploads.s3.amazonaws.com/uploads/user/profile_image/107082/dcf5480b-5f8a-40ea-bca8-8b57c9a228fc.jpeg\",\n",
            "            \"twitter_username\": \"KodgireKedar\",\n",
            "            \"user_id\": 107082,\n",
            "            \"username\": \"kedark\",\n",
            "            \"website_url\": \"https://kedar-k.github.io/Me\"\n",
            "        }\n",
            "    },\n",
            "    {\n",
            "        \"canonical_url\": \"https://dev.to/kedark/how-the-react-updates-dom-1kc7\",\n",
            "        \"collection_id\": null,\n",
            "        \"comments_count\": 2,\n",
            "        \"cover_image\": \"https://res.cloudinary.com/practicaldev/image/fetch/s--ZEeHSRUc--/c_imagga_scale,f_auto,fl_progressive,h_420,q_auto,w_1000/https://dev-to-uploads.s3.amazonaws.com/i/63pbuq3mx9pbxe5fslsq.png\",\n",
            "        \"created_at\": \"2020-10-04T18:18:51Z\",\n",
            "        \"crossposted_at\": null,\n",
            "        \"description\": \"So, how does the react update real DOM i.e. in the browser?  The render() method which is being calle...\",\n",
            "        \"edited_at\": null,\n",
            "        \"id\": 475424,\n",
            "        \"last_comment_at\": \"2020-10-25T13:29:09Z\",\n",
            "        \"path\": \"/kedark/how-the-react-updates-dom-1kc7\",\n",
            "        \"positive_reactions_count\": 27,\n",
            "        \"public_reactions_count\": 27,\n",
            "        \"published_at\": \"2020-10-22T19:09:10Z\",\n",
            "        \"published_timestamp\": \"2020-10-22T19:09:10Z\",\n",
            "        \"readable_publish_date\": \"Oct 22 '20\",\n",
            "        \"reading_time_minutes\": 2,\n",
            "        \"slug\": \"how-the-react-updates-dom-1kc7\",\n",
            "        \"social_image\": \"https://res.cloudinary.com/practicaldev/image/fetch/s--4Fvkj6nr--/c_imagga_scale,f_auto,fl_progressive,h_500,q_auto,w_1000/https://dev-to-uploads.s3.amazonaws.com/i/63pbuq3mx9pbxe5fslsq.png\",\n",
            "        \"tag_list\": [\n",
            "            \"react\",\n",
            "            \"javascript\",\n",
            "            \"webdev\"\n",
            "        ],\n",
            "        \"tags\": \"react, javascript, webdev\",\n",
            "        \"title\": \"How the React updates DOM?\",\n",
            "        \"type_of\": \"article\",\n",
            "        \"url\": \"https://dev.to/kedark/how-the-react-updates-dom-1kc7\",\n",
            "        \"user\": {\n",
            "            \"github_username\": \"Kedar-K\",\n",
            "            \"name\": \"Kedar.K\",\n",
            "            \"profile_image\": \"https://res.cloudinary.com/practicaldev/image/fetch/s--dTagIo5I--/c_fill,f_auto,fl_progressive,h_640,q_auto,w_640/https://dev-to-uploads.s3.amazonaws.com/uploads/user/profile_image/107082/dcf5480b-5f8a-40ea-bca8-8b57c9a228fc.jpeg\",\n",
            "            \"profile_image_90\": \"https://res.cloudinary.com/practicaldev/image/fetch/s--gCp-02al--/c_fill,f_auto,fl_progressive,h_90,q_auto,w_90/https://dev-to-uploads.s3.amazonaws.com/uploads/user/profile_image/107082/dcf5480b-5f8a-40ea-bca8-8b57c9a228fc.jpeg\",\n",
            "            \"twitter_username\": \"KodgireKedar\",\n",
            "            \"user_id\": 107082,\n",
            "            \"username\": \"kedark\",\n",
            "            \"website_url\": \"https://kedar-k.github.io/Me\"\n",
            "        }\n",
            "    },\n",
            "    {\n",
            "        \"canonical_url\": \"https://dev.to/kedark/ways-to-count-occurrences-of-the-list-items-in-python-472g\",\n",
            "        \"collection_id\": 5654,\n",
            "        \"comments_count\": 2,\n",
            "        \"cover_image\": \"https://res.cloudinary.com/practicaldev/image/fetch/s--R3AlOm34--/c_imagga_scale,f_auto,fl_progressive,h_420,q_auto,w_1000/https://dev-to-uploads.s3.amazonaws.com/i/vsx32nvy6a355weml3ae.jpg\",\n",
            "        \"created_at\": \"2020-08-01T16:59:21Z\",\n",
            "        \"crossposted_at\": null,\n",
            "        \"description\": \"Table Of Contents    Introduction Count operator Counter Pandas loop and Dict            Int...\",\n",
            "        \"edited_at\": null,\n",
            "        \"id\": 415535,\n",
            "        \"last_comment_at\": \"2020-08-04T01:25:44Z\",\n",
            "        \"path\": \"/kedark/ways-to-count-occurrences-of-the-list-items-in-python-472g\",\n",
            "        \"positive_reactions_count\": 17,\n",
            "        \"public_reactions_count\": 17,\n",
            "        \"published_at\": \"2020-08-02T16:47:34Z\",\n",
            "        \"published_timestamp\": \"2020-08-02T16:47:34Z\",\n",
            "        \"readable_publish_date\": \"Aug 2 '20\",\n",
            "        \"reading_time_minutes\": 3,\n",
            "        \"slug\": \"ways-to-count-occurrences-of-the-list-items-in-python-472g\",\n",
            "        \"social_image\": \"https://res.cloudinary.com/practicaldev/image/fetch/s--fIrTvFUh--/c_imagga_scale,f_auto,fl_progressive,h_500,q_auto,w_1000/https://dev-to-uploads.s3.amazonaws.com/i/vsx32nvy6a355weml3ae.jpg\",\n",
            "        \"tag_list\": [\n",
            "            \"python\",\n",
            "            \"productivity\",\n",
            "            \"computerscience\",\n",
            "            \"codenewbie\"\n",
            "        ],\n",
            "        \"tags\": \"python, productivity, computerscience, codenewbie\",\n",
            "        \"title\": \"Ways to count occurrences of the list items in Python\",\n",
            "        \"type_of\": \"article\",\n",
            "        \"url\": \"https://dev.to/kedark/ways-to-count-occurrences-of-the-list-items-in-python-472g\",\n",
            "        \"user\": {\n",
            "            \"github_username\": \"Kedar-K\",\n",
            "            \"name\": \"Kedar.K\",\n",
            "            \"profile_image\": \"https://res.cloudinary.com/practicaldev/image/fetch/s--dTagIo5I--/c_fill,f_auto,fl_progressive,h_640,q_auto,w_640/https://dev-to-uploads.s3.amazonaws.com/uploads/user/profile_image/107082/dcf5480b-5f8a-40ea-bca8-8b57c9a228fc.jpeg\",\n",
            "            \"profile_image_90\": \"https://res.cloudinary.com/practicaldev/image/fetch/s--gCp-02al--/c_fill,f_auto,fl_progressive,h_90,q_auto,w_90/https://dev-to-uploads.s3.amazonaws.com/uploads/user/profile_image/107082/dcf5480b-5f8a-40ea-bca8-8b57c9a228fc.jpeg\",\n",
            "            \"twitter_username\": \"KodgireKedar\",\n",
            "            \"user_id\": 107082,\n",
            "            \"username\": \"kedark\",\n",
            "            \"website_url\": \"https://kedar-k.github.io/Me\"\n",
            "        }\n",
            "    },\n",
            "    {\n",
            "        \"canonical_url\": \"https://dev.to/kedark/creating-css-animations-with-just-a-few-clicks-2fji\",\n",
            "        \"collection_id\": 5624,\n",
            "        \"comments_count\": 0,\n",
            "        \"cover_image\": \"https://res.cloudinary.com/practicaldev/image/fetch/s--OILTAcRA--/c_imagga_scale,f_auto,fl_progressive,h_420,q_66,w_1000/https://dev-to-uploads.s3.amazonaws.com/i/cf1rkeun0fr5lcm8kkrv.gif\",\n",
            "        \"created_at\": \"2020-05-17T08:36:18Z\",\n",
            "        \"crossposted_at\": null,\n",
            "        \"description\": \"Animations are amazing, aren't they? They make the web more attractive and contribute positively towa...\",\n",
            "        \"edited_at\": null,\n",
            "        \"id\": 337307,\n",
            "        \"last_comment_at\": \"2020-05-17T08:43:40Z\",\n",
            "        \"path\": \"/kedark/creating-css-animations-with-just-a-few-clicks-2fji\",\n",
            "        \"positive_reactions_count\": 23,\n",
            "        \"public_reactions_count\": 23,\n",
            "        \"published_at\": \"2020-05-17T08:43:40Z\",\n",
            "        \"published_timestamp\": \"2020-05-17T08:43:40Z\",\n",
            "        \"readable_publish_date\": \"May 17 '20\",\n",
            "        \"reading_time_minutes\": 2,\n",
            "        \"slug\": \"creating-css-animations-with-just-a-few-clicks-2fji\",\n",
            "        \"social_image\": \"https://res.cloudinary.com/practicaldev/image/fetch/s--6R75i7AJ--/c_imagga_scale,f_auto,fl_progressive,h_500,q_66,w_1000/https://dev-to-uploads.s3.amazonaws.com/i/cf1rkeun0fr5lcm8kkrv.gif\",\n",
            "        \"tag_list\": [\n",
            "            \"css\",\n",
            "            \"webdev\",\n",
            "            \"uiweekly\",\n",
            "            \"ux\"\n",
            "        ],\n",
            "        \"tags\": \"css, webdev, uiweekly, ux\",\n",
            "        \"title\": \"Creating CSS animations with just a few clicks.\",\n",
            "        \"type_of\": \"article\",\n",
            "        \"url\": \"https://dev.to/kedark/creating-css-animations-with-just-a-few-clicks-2fji\",\n",
            "        \"user\": {\n",
            "            \"github_username\": \"Kedar-K\",\n",
            "            \"name\": \"Kedar.K\",\n",
            "            \"profile_image\": \"https://res.cloudinary.com/practicaldev/image/fetch/s--dTagIo5I--/c_fill,f_auto,fl_progressive,h_640,q_auto,w_640/https://dev-to-uploads.s3.amazonaws.com/uploads/user/profile_image/107082/dcf5480b-5f8a-40ea-bca8-8b57c9a228fc.jpeg\",\n",
            "            \"profile_image_90\": \"https://res.cloudinary.com/practicaldev/image/fetch/s--gCp-02al--/c_fill,f_auto,fl_progressive,h_90,q_auto,w_90/https://dev-to-uploads.s3.amazonaws.com/uploads/user/profile_image/107082/dcf5480b-5f8a-40ea-bca8-8b57c9a228fc.jpeg\",\n",
            "            \"twitter_username\": \"KodgireKedar\",\n",
            "            \"user_id\": 107082,\n",
            "            \"username\": \"kedark\",\n",
            "            \"website_url\": \"https://kedar-k.github.io/Me\"\n",
            "        }\n",
            "    },\n",
            "    {\n",
            "        \"canonical_url\": \"https://dev.to/kedark/it-s-time-to-understand-the-code-visually-nh9\",\n",
            "        \"collection_id\": 5624,\n",
            "        \"comments_count\": 8,\n",
            "        \"cover_image\": \"https://res.cloudinary.com/practicaldev/image/fetch/s--5hiy7Iz2--/c_imagga_scale,f_auto,fl_progressive,h_420,q_66,w_1000/https://dev-to-uploads.s3.amazonaws.com/i/otukb5r16oz9fow42adi.gif\",\n",
            "        \"created_at\": \"2020-05-07T09:53:23Z\",\n",
            "        \"crossposted_at\": null,\n",
            "        \"description\": \"Yeah, you heard me right, it's time to visualize the code.    When I started learning to code it was...\",\n",
            "        \"edited_at\": \"2020-05-17T07:48:26Z\",\n",
            "        \"id\": 329501,\n",
            "        \"last_comment_at\": \"2020-07-29T21:17:22Z\",\n",
            "        \"path\": \"/kedark/it-s-time-to-understand-the-code-visually-nh9\",\n",
            "        \"positive_reactions_count\": 92,\n",
            "        \"public_reactions_count\": 92,\n",
            "        \"published_at\": \"2020-05-07T09:56:27Z\",\n",
            "        \"published_timestamp\": \"2020-05-07T09:56:27Z\",\n",
            "        \"readable_publish_date\": \"May 7 '20\",\n",
            "        \"reading_time_minutes\": 2,\n",
            "        \"slug\": \"it-s-time-to-understand-the-code-visually-nh9\",\n",
            "        \"social_image\": \"https://res.cloudinary.com/practicaldev/image/fetch/s--g5sIJ7gd--/c_imagga_scale,f_auto,fl_progressive,h_500,q_66,w_1000/https://dev-to-uploads.s3.amazonaws.com/i/otukb5r16oz9fow42adi.gif\",\n",
            "        \"tag_list\": [\n",
            "            \"python\",\n",
            "            \"javascript\",\n",
            "            \"typescript\",\n",
            "            \"codenewbie\"\n",
            "        ],\n",
            "        \"tags\": \"python, javascript, typescript, codenewbie\",\n",
            "        \"title\": \"It's time to understand the code visually\",\n",
            "        \"type_of\": \"article\",\n",
            "        \"url\": \"https://dev.to/kedark/it-s-time-to-understand-the-code-visually-nh9\",\n",
            "        \"user\": {\n",
            "            \"github_username\": \"Kedar-K\",\n",
            "            \"name\": \"Kedar.K\",\n",
            "            \"profile_image\": \"https://res.cloudinary.com/practicaldev/image/fetch/s--dTagIo5I--/c_fill,f_auto,fl_progressive,h_640,q_auto,w_640/https://dev-to-uploads.s3.amazonaws.com/uploads/user/profile_image/107082/dcf5480b-5f8a-40ea-bca8-8b57c9a228fc.jpeg\",\n",
            "            \"profile_image_90\": \"https://res.cloudinary.com/practicaldev/image/fetch/s--gCp-02al--/c_fill,f_auto,fl_progressive,h_90,q_auto,w_90/https://dev-to-uploads.s3.amazonaws.com/uploads/user/profile_image/107082/dcf5480b-5f8a-40ea-bca8-8b57c9a228fc.jpeg\",\n",
            "            \"twitter_username\": \"KodgireKedar\",\n",
            "            \"user_id\": 107082,\n",
            "            \"username\": \"kedark\",\n",
            "            \"website_url\": \"https://kedar-k.github.io/Me\"\n",
            "        }\n",
            "    },\n",
            "    {\n",
            "        \"canonical_url\": \"https://dev.to/kedark/5-places-to-host-your-website-for-free-1c4f\",\n",
            "        \"collection_id\": 5624,\n",
            "        \"comments_count\": 9,\n",
            "        \"cover_image\": \"https://res.cloudinary.com/practicaldev/image/fetch/s--Wkggkms3--/c_imagga_scale,f_auto,fl_progressive,h_420,q_auto,w_1000/https://dev-to-uploads.s3.amazonaws.com/i/dv1moyi2v7jrnq2y3jjg.jpg\",\n",
            "        \"created_at\": \"2020-04-15T10:47:10Z\",\n",
            "        \"crossposted_at\": null,\n",
            "        \"description\": \"In today's world, the digital presence is essential as you can connect to anyone in the world by digi...\",\n",
            "        \"edited_at\": \"2020-04-16T10:57:46Z\",\n",
            "        \"id\": 309810,\n",
            "        \"last_comment_at\": \"2020-12-25T18:56:46Z\",\n",
            "        \"path\": \"/kedark/5-places-to-host-your-website-for-free-1c4f\",\n",
            "        \"positive_reactions_count\": 61,\n",
            "        \"public_reactions_count\": 61,\n",
            "        \"published_at\": \"2020-04-15T18:05:14Z\",\n",
            "        \"published_timestamp\": \"2020-04-15T18:05:14Z\",\n",
            "        \"readable_publish_date\": \"Apr 15 '20\",\n",
            "        \"reading_time_minutes\": 3,\n",
            "        \"slug\": \"5-places-to-host-your-website-for-free-1c4f\",\n",
            "        \"social_image\": \"https://res.cloudinary.com/practicaldev/image/fetch/s--fOcRdiyl--/c_imagga_scale,f_auto,fl_progressive,h_500,q_auto,w_1000/https://dev-to-uploads.s3.amazonaws.com/i/dv1moyi2v7jrnq2y3jjg.jpg\",\n",
            "        \"tag_list\": [\n",
            "            \"webdev\",\n",
            "            \"devops\"\n",
            "        ],\n",
            "        \"tags\": \"webdev, devops\",\n",
            "        \"title\": \"5 Places to host your website for free \",\n",
            "        \"type_of\": \"article\",\n",
            "        \"url\": \"https://dev.to/kedark/5-places-to-host-your-website-for-free-1c4f\",\n",
            "        \"user\": {\n",
            "            \"github_username\": \"Kedar-K\",\n",
            "            \"name\": \"Kedar.K\",\n",
            "            \"profile_image\": \"https://res.cloudinary.com/practicaldev/image/fetch/s--dTagIo5I--/c_fill,f_auto,fl_progressive,h_640,q_auto,w_640/https://dev-to-uploads.s3.amazonaws.com/uploads/user/profile_image/107082/dcf5480b-5f8a-40ea-bca8-8b57c9a228fc.jpeg\",\n",
            "            \"profile_image_90\": \"https://res.cloudinary.com/practicaldev/image/fetch/s--gCp-02al--/c_fill,f_auto,fl_progressive,h_90,q_auto,w_90/https://dev-to-uploads.s3.amazonaws.com/uploads/user/profile_image/107082/dcf5480b-5f8a-40ea-bca8-8b57c9a228fc.jpeg\",\n",
            "            \"twitter_username\": \"KodgireKedar\",\n",
            "            \"user_id\": 107082,\n",
            "            \"username\": \"kedark\",\n",
            "            \"website_url\": \"https://kedar-k.github.io/Me\"\n",
            "        }\n",
            "    },\n",
            "    {\n",
            "        \"canonical_url\": \"https://dev.to/kedark/identity-and-access-management-in-cloud-7ob\",\n",
            "        \"collection_id\": null,\n",
            "        \"comments_count\": 0,\n",
            "        \"cover_image\": \"https://res.cloudinary.com/practicaldev/image/fetch/s---ovYalzv--/c_imagga_scale,f_auto,fl_progressive,h_420,q_auto,w_1000/https://dev-to-uploads.s3.amazonaws.com/i/tj7zyxhkipl27jualouy.png\",\n",
            "        \"created_at\": \"2020-04-08T13:54:40Z\",\n",
            "        \"crossposted_at\": null,\n",
            "        \"description\": \"This post focuses IAM on Google Cloud Platform only.            What is identity access...\",\n",
            "        \"edited_at\": \"2020-04-08T21:14:23Z\",\n",
            "        \"id\": 302489,\n",
            "        \"last_comment_at\": \"2020-04-08T14:43:18Z\",\n",
            "        \"path\": \"/kedark/identity-and-access-management-in-cloud-7ob\",\n",
            "        \"positive_reactions_count\": 2,\n",
            "        \"public_reactions_count\": 2,\n",
            "        \"published_at\": \"2020-04-08T14:43:18Z\",\n",
            "        \"published_timestamp\": \"2020-04-08T14:43:18Z\",\n",
            "        \"readable_publish_date\": \"Apr 8 '20\",\n",
            "        \"reading_time_minutes\": 3,\n",
            "        \"slug\": \"identity-and-access-management-in-cloud-7ob\",\n",
            "        \"social_image\": \"https://res.cloudinary.com/practicaldev/image/fetch/s--7KIJnl9_--/c_imagga_scale,f_auto,fl_progressive,h_500,q_auto,w_1000/https://dev-to-uploads.s3.amazonaws.com/i/tj7zyxhkipl27jualouy.png\",\n",
            "        \"tag_list\": [\n",
            "            \"devops\",\n",
            "            \"cloud\",\n",
            "            \"learning\",\n",
            "            \"gcp\"\n",
            "        ],\n",
            "        \"tags\": \"devops, cloud, learning, gcp\",\n",
            "        \"title\": \"Identity and Access Management in Cloud\",\n",
            "        \"type_of\": \"article\",\n",
            "        \"url\": \"https://dev.to/kedark/identity-and-access-management-in-cloud-7ob\",\n",
            "        \"user\": {\n",
            "            \"github_username\": \"Kedar-K\",\n",
            "            \"name\": \"Kedar.K\",\n",
            "            \"profile_image\": \"https://res.cloudinary.com/practicaldev/image/fetch/s--dTagIo5I--/c_fill,f_auto,fl_progressive,h_640,q_auto,w_640/https://dev-to-uploads.s3.amazonaws.com/uploads/user/profile_image/107082/dcf5480b-5f8a-40ea-bca8-8b57c9a228fc.jpeg\",\n",
            "            \"profile_image_90\": \"https://res.cloudinary.com/practicaldev/image/fetch/s--gCp-02al--/c_fill,f_auto,fl_progressive,h_90,q_auto,w_90/https://dev-to-uploads.s3.amazonaws.com/uploads/user/profile_image/107082/dcf5480b-5f8a-40ea-bca8-8b57c9a228fc.jpeg\",\n",
            "            \"twitter_username\": \"KodgireKedar\",\n",
            "            \"user_id\": 107082,\n",
            "            \"username\": \"kedark\",\n",
            "            \"website_url\": \"https://kedar-k.github.io/Me\"\n",
            "        }\n",
            "    },\n",
            "    {\n",
            "        \"canonical_url\": \"https://dev.to/kedark/all-you-need-to-know-about-python-lists-3ad7\",\n",
            "        \"collection_id\": 5654,\n",
            "        \"comments_count\": 1,\n",
            "        \"cover_image\": \"https://res.cloudinary.com/practicaldev/image/fetch/s--oylSP8KK--/c_imagga_scale,f_auto,fl_progressive,h_420,q_auto,w_1000/https://dev-to-uploads.s3.amazonaws.com/i/501tnmbnli3abnvot4fs.png\",\n",
            "        \"created_at\": \"2020-03-29T11:33:20Z\",\n",
            "        \"crossposted_at\": null,\n",
            "        \"description\": \"What's a list?   It's one of the data structures in python. The lists are flexible and very...\",\n",
            "        \"edited_at\": null,\n",
            "        \"id\": 294296,\n",
            "        \"last_comment_at\": \"2020-07-31T04:22:12Z\",\n",
            "        \"path\": \"/kedark/all-you-need-to-know-about-python-lists-3ad7\",\n",
            "        \"positive_reactions_count\": 27,\n",
            "        \"public_reactions_count\": 27,\n",
            "        \"published_at\": \"2020-04-01T14:21:51Z\",\n",
            "        \"published_timestamp\": \"2020-04-01T14:21:51Z\",\n",
            "        \"readable_publish_date\": \"Apr 1 '20\",\n",
            "        \"reading_time_minutes\": 8,\n",
            "        \"slug\": \"all-you-need-to-know-about-python-lists-3ad7\",\n",
            "        \"social_image\": \"https://res.cloudinary.com/practicaldev/image/fetch/s--toGNnRis--/c_imagga_scale,f_auto,fl_progressive,h_500,q_auto,w_1000/https://dev-to-uploads.s3.amazonaws.com/i/501tnmbnli3abnvot4fs.png\",\n",
            "        \"tag_list\": [\n",
            "            \"python\",\n",
            "            \"codenewbie\",\n",
            "            \"learning\",\n",
            "            \"productivity\"\n",
            "        ],\n",
            "        \"tags\": \"python, codenewbie, learning, productivity\",\n",
            "        \"title\": \"All you need to know about Python Lists \",\n",
            "        \"type_of\": \"article\",\n",
            "        \"url\": \"https://dev.to/kedark/all-you-need-to-know-about-python-lists-3ad7\",\n",
            "        \"user\": {\n",
            "            \"github_username\": \"Kedar-K\",\n",
            "            \"name\": \"Kedar.K\",\n",
            "            \"profile_image\": \"https://res.cloudinary.com/practicaldev/image/fetch/s--dTagIo5I--/c_fill,f_auto,fl_progressive,h_640,q_auto,w_640/https://dev-to-uploads.s3.amazonaws.com/uploads/user/profile_image/107082/dcf5480b-5f8a-40ea-bca8-8b57c9a228fc.jpeg\",\n",
            "            \"profile_image_90\": \"https://res.cloudinary.com/practicaldev/image/fetch/s--gCp-02al--/c_fill,f_auto,fl_progressive,h_90,q_auto,w_90/https://dev-to-uploads.s3.amazonaws.com/uploads/user/profile_image/107082/dcf5480b-5f8a-40ea-bca8-8b57c9a228fc.jpeg\",\n",
            "            \"twitter_username\": \"KodgireKedar\",\n",
            "            \"user_id\": 107082,\n",
            "            \"username\": \"kedark\",\n",
            "            \"website_url\": \"https://kedar-k.github.io/Me\"\n",
            "        }\n",
            "    },\n",
            "    {\n",
            "        \"canonical_url\": \"https://dev.to/kedark/stuck-at-home-corona-spend-your-time-learning-for-free-15-000-hours-content-1d29\",\n",
            "        \"collection_id\": 5624,\n",
            "        \"comments_count\": 0,\n",
            "        \"cover_image\": \"https://res.cloudinary.com/practicaldev/image/fetch/s--nSbo7AZ2--/c_imagga_scale,f_auto,fl_progressive,h_420,q_auto,w_1000/https://dev-to-uploads.s3.amazonaws.com/i/5a9x25f5ajnj17thyaen.png\",\n",
            "        \"created_at\": \"2020-03-24T16:28:51Z\",\n",
            "        \"crossposted_at\": null,\n",
            "        \"description\": \"Kedar K                       @kodgirekedar...\",\n",
            "        \"edited_at\": \"2020-03-27T15:48:17Z\",\n",
            "        \"id\": 287330,\n",
            "        \"last_comment_at\": \"2020-03-27T11:15:07Z\",\n",
            "        \"path\": \"/kedark/stuck-at-home-corona-spend-your-time-learning-for-free-15-000-hours-content-1d29\",\n",
            "        \"positive_reactions_count\": 119,\n",
            "        \"public_reactions_count\": 119,\n",
            "        \"published_at\": \"2020-03-27T11:15:07Z\",\n",
            "        \"published_timestamp\": \"2020-03-27T11:15:07Z\",\n",
            "        \"readable_publish_date\": \"Mar 27 '20\",\n",
            "        \"reading_time_minutes\": 4,\n",
            "        \"slug\": \"stuck-at-home-corona-spend-your-time-learning-for-free-15-000-hours-content-1d29\",\n",
            "        \"social_image\": \"https://res.cloudinary.com/practicaldev/image/fetch/s--lYGxCUyd--/c_imagga_scale,f_auto,fl_progressive,h_500,q_auto,w_1000/https://dev-to-uploads.s3.amazonaws.com/i/5a9x25f5ajnj17thyaen.png\",\n",
            "        \"tag_list\": [\n",
            "            \"beginners\",\n",
            "            \"tutorial\",\n",
            "            \"codenewbie\",\n",
            "            \"webdev\"\n",
            "        ],\n",
            "        \"tags\": \"beginners, tutorial, codenewbie, webdev\",\n",
            "        \"title\": \"Stuck at home, corona? Spend your time learning for free (15,000+ hours content).\",\n",
            "        \"type_of\": \"article\",\n",
            "        \"url\": \"https://dev.to/kedark/stuck-at-home-corona-spend-your-time-learning-for-free-15-000-hours-content-1d29\",\n",
            "        \"user\": {\n",
            "            \"github_username\": \"Kedar-K\",\n",
            "            \"name\": \"Kedar.K\",\n",
            "            \"profile_image\": \"https://res.cloudinary.com/practicaldev/image/fetch/s--dTagIo5I--/c_fill,f_auto,fl_progressive,h_640,q_auto,w_640/https://dev-to-uploads.s3.amazonaws.com/uploads/user/profile_image/107082/dcf5480b-5f8a-40ea-bca8-8b57c9a228fc.jpeg\",\n",
            "            \"profile_image_90\": \"https://res.cloudinary.com/practicaldev/image/fetch/s--gCp-02al--/c_fill,f_auto,fl_progressive,h_90,q_auto,w_90/https://dev-to-uploads.s3.amazonaws.com/uploads/user/profile_image/107082/dcf5480b-5f8a-40ea-bca8-8b57c9a228fc.jpeg\",\n",
            "            \"twitter_username\": \"KodgireKedar\",\n",
            "            \"user_id\": 107082,\n",
            "            \"username\": \"kedark\",\n",
            "            \"website_url\": \"https://kedar-k.github.io/Me\"\n",
            "        }\n",
            "    },\n",
            "    {\n",
            "        \"canonical_url\": \"https://dev.to/kedark/three-dots-in-js-spread-and-rest-explained-40e\",\n",
            "        \"collection_id\": null,\n",
            "        \"comments_count\": 1,\n",
            "        \"cover_image\": \"https://res.cloudinary.com/practicaldev/image/fetch/s--cl5hftTS--/c_imagga_scale,f_auto,fl_progressive,h_420,q_auto,w_1000/https://dev-to-uploads.s3.amazonaws.com/i/ise0ri00ufvgjo6pyfo0.jpeg\",\n",
            "        \"created_at\": \"2020-03-25T18:22:58Z\",\n",
            "        \"crossposted_at\": null,\n",
            "        \"description\": \"Three dots ... is one of the favorites for JavaScript developers as it has a lot of use cases which m...\",\n",
            "        \"edited_at\": null,\n",
            "        \"id\": 288126,\n",
            "        \"last_comment_at\": \"2020-04-07T08:05:33Z\",\n",
            "        \"path\": \"/kedark/three-dots-in-js-spread-and-rest-explained-40e\",\n",
            "        \"positive_reactions_count\": 105,\n",
            "        \"public_reactions_count\": 105,\n",
            "        \"published_at\": \"2020-03-25T21:01:33Z\",\n",
            "        \"published_timestamp\": \"2020-03-25T21:01:33Z\",\n",
            "        \"readable_publish_date\": \"Mar 25 '20\",\n",
            "        \"reading_time_minutes\": 2,\n",
            "        \"slug\": \"three-dots-in-js-spread-and-rest-explained-40e\",\n",
            "        \"social_image\": \"https://res.cloudinary.com/practicaldev/image/fetch/s--Cy1HpbVO--/c_imagga_scale,f_auto,fl_progressive,h_500,q_auto,w_1000/https://dev-to-uploads.s3.amazonaws.com/i/ise0ri00ufvgjo6pyfo0.jpeg\",\n",
            "        \"tag_list\": [\n",
            "            \"webdev\",\n",
            "            \"codenewbie\",\n",
            "            \"javascript\",\n",
            "            \"learning\"\n",
            "        ],\n",
            "        \"tags\": \"webdev, codenewbie, javascript, learning\",\n",
            "        \"title\": \"Three dots \\\"...\\\" in JS - Spread and Rest explained\",\n",
            "        \"type_of\": \"article\",\n",
            "        \"url\": \"https://dev.to/kedark/three-dots-in-js-spread-and-rest-explained-40e\",\n",
            "        \"user\": {\n",
            "            \"github_username\": \"Kedar-K\",\n",
            "            \"name\": \"Kedar.K\",\n",
            "            \"profile_image\": \"https://res.cloudinary.com/practicaldev/image/fetch/s--dTagIo5I--/c_fill,f_auto,fl_progressive,h_640,q_auto,w_640/https://dev-to-uploads.s3.amazonaws.com/uploads/user/profile_image/107082/dcf5480b-5f8a-40ea-bca8-8b57c9a228fc.jpeg\",\n",
            "            \"profile_image_90\": \"https://res.cloudinary.com/practicaldev/image/fetch/s--gCp-02al--/c_fill,f_auto,fl_progressive,h_90,q_auto,w_90/https://dev-to-uploads.s3.amazonaws.com/uploads/user/profile_image/107082/dcf5480b-5f8a-40ea-bca8-8b57c9a228fc.jpeg\",\n",
            "            \"twitter_username\": \"KodgireKedar\",\n",
            "            \"user_id\": 107082,\n",
            "            \"username\": \"kedark\",\n",
            "            \"website_url\": \"https://kedar-k.github.io/Me\"\n",
            "        }\n",
            "    },\n",
            "    {\n",
            "        \"canonical_url\": \"https://dev.to/kedark/the-linux-guide-cheatsheet-commands-directories-etc-39k0\",\n",
            "        \"collection_id\": null,\n",
            "        \"comments_count\": 6,\n",
            "        \"cover_image\": \"https://res.cloudinary.com/practicaldev/image/fetch/s--QBenGV25--/c_imagga_scale,f_auto,fl_progressive,h_420,q_auto,w_1000/https://dev-to-uploads.s3.amazonaws.com/i/nb11z3gjfs7q779ghshi.jpg\",\n",
            "        \"created_at\": \"2020-03-15T11:12:32Z\",\n",
            "        \"crossposted_at\": null,\n",
            "        \"description\": \"This is a Linux guide, There might be some stuff that I can miss out but I will try my best to add al...\",\n",
            "        \"edited_at\": \"2020-03-25T20:48:49Z\",\n",
            "        \"id\": 281607,\n",
            "        \"last_comment_at\": \"2022-05-04T10:17:11Z\",\n",
            "        \"path\": \"/kedark/the-linux-guide-cheatsheet-commands-directories-etc-39k0\",\n",
            "        \"positive_reactions_count\": 202,\n",
            "        \"public_reactions_count\": 202,\n",
            "        \"published_at\": \"2020-03-21T14:11:11Z\",\n",
            "        \"published_timestamp\": \"2020-03-21T14:11:11Z\",\n",
            "        \"readable_publish_date\": \"Mar 21 '20\",\n",
            "        \"reading_time_minutes\": 16,\n",
            "        \"slug\": \"the-linux-guide-cheatsheet-commands-directories-etc-39k0\",\n",
            "        \"social_image\": \"https://res.cloudinary.com/practicaldev/image/fetch/s--nHCEYY71--/c_imagga_scale,f_auto,fl_progressive,h_500,q_auto,w_1000/https://dev-to-uploads.s3.amazonaws.com/i/nb11z3gjfs7q779ghshi.jpg\",\n",
            "        \"tag_list\": [\n",
            "            \"linux\",\n",
            "            \"bash\",\n",
            "            \"computerscience\"\n",
            "        ],\n",
            "        \"tags\": \"linux, bash, computerscience\",\n",
            "        \"title\": \"The Linux guide/cheatsheet/tutorial (Commands, Directories, etc)\",\n",
            "        \"type_of\": \"article\",\n",
            "        \"url\": \"https://dev.to/kedark/the-linux-guide-cheatsheet-commands-directories-etc-39k0\",\n",
            "        \"user\": {\n",
            "            \"github_username\": \"Kedar-K\",\n",
            "            \"name\": \"Kedar.K\",\n",
            "            \"profile_image\": \"https://res.cloudinary.com/practicaldev/image/fetch/s--dTagIo5I--/c_fill,f_auto,fl_progressive,h_640,q_auto,w_640/https://dev-to-uploads.s3.amazonaws.com/uploads/user/profile_image/107082/dcf5480b-5f8a-40ea-bca8-8b57c9a228fc.jpeg\",\n",
            "            \"profile_image_90\": \"https://res.cloudinary.com/practicaldev/image/fetch/s--gCp-02al--/c_fill,f_auto,fl_progressive,h_90,q_auto,w_90/https://dev-to-uploads.s3.amazonaws.com/uploads/user/profile_image/107082/dcf5480b-5f8a-40ea-bca8-8b57c9a228fc.jpeg\",\n",
            "            \"twitter_username\": \"KodgireKedar\",\n",
            "            \"user_id\": 107082,\n",
            "            \"username\": \"kedark\",\n",
            "            \"website_url\": \"https://kedar-k.github.io/Me\"\n",
            "        }\n",
            "    },\n",
            "    {\n",
            "        \"canonical_url\": \"https://dev.to/kedark/creating-machine-learning-models-just-got-easy-h8j\",\n",
            "        \"collection_id\": null,\n",
            "        \"comments_count\": 0,\n",
            "        \"cover_image\": \"https://res.cloudinary.com/practicaldev/image/fetch/s--SD6yc2mg--/c_imagga_scale,f_auto,fl_progressive,h_420,q_auto,w_1000/https://dev-to-uploads.s3.amazonaws.com/i/7jbeyaa09s2dh5irb8hk.png\",\n",
            "        \"created_at\": \"2020-03-15T08:33:21Z\",\n",
            "        \"crossposted_at\": null,\n",
            "        \"description\": \"Google has launched Teachable Machine 2.0 a couple months back which makes it easy for everyone to cr...\",\n",
            "        \"edited_at\": \"2020-03-15T08:34:46Z\",\n",
            "        \"id\": 281551,\n",
            "        \"last_comment_at\": \"2020-03-15T08:33:21Z\",\n",
            "        \"path\": \"/kedark/creating-machine-learning-models-just-got-easy-h8j\",\n",
            "        \"positive_reactions_count\": 50,\n",
            "        \"public_reactions_count\": 50,\n",
            "        \"published_at\": \"2020-03-15T08:33:21Z\",\n",
            "        \"published_timestamp\": \"2020-03-15T08:33:21Z\",\n",
            "        \"readable_publish_date\": \"Mar 15 '20\",\n",
            "        \"reading_time_minutes\": 3,\n",
            "        \"slug\": \"creating-machine-learning-models-just-got-easy-h8j\",\n",
            "        \"social_image\": \"https://res.cloudinary.com/practicaldev/image/fetch/s--KsqmiE9V--/c_imagga_scale,f_auto,fl_progressive,h_500,q_auto,w_1000/https://dev-to-uploads.s3.amazonaws.com/i/7jbeyaa09s2dh5irb8hk.png\",\n",
            "        \"tag_list\": [\n",
            "            \"machinelearning\",\n",
            "            \"codenewbie\"\n",
            "        ],\n",
            "        \"tags\": \"machinelearning, codenewbie\",\n",
            "        \"title\": \"Creating machine learning models just got easy!\",\n",
            "        \"type_of\": \"article\",\n",
            "        \"url\": \"https://dev.to/kedark/creating-machine-learning-models-just-got-easy-h8j\",\n",
            "        \"user\": {\n",
            "            \"github_username\": \"Kedar-K\",\n",
            "            \"name\": \"Kedar.K\",\n",
            "            \"profile_image\": \"https://res.cloudinary.com/practicaldev/image/fetch/s--dTagIo5I--/c_fill,f_auto,fl_progressive,h_640,q_auto,w_640/https://dev-to-uploads.s3.amazonaws.com/uploads/user/profile_image/107082/dcf5480b-5f8a-40ea-bca8-8b57c9a228fc.jpeg\",\n",
            "            \"profile_image_90\": \"https://res.cloudinary.com/practicaldev/image/fetch/s--gCp-02al--/c_fill,f_auto,fl_progressive,h_90,q_auto,w_90/https://dev-to-uploads.s3.amazonaws.com/uploads/user/profile_image/107082/dcf5480b-5f8a-40ea-bca8-8b57c9a228fc.jpeg\",\n",
            "            \"twitter_username\": \"KodgireKedar\",\n",
            "            \"user_id\": 107082,\n",
            "            \"username\": \"kedark\",\n",
            "            \"website_url\": \"https://kedar-k.github.io/Me\"\n",
            "        }\n",
            "    },\n",
            "    {\n",
            "        \"canonical_url\": \"https://dev.to/kedark/steps-towards-better-user-interfaces-k3a\",\n",
            "        \"collection_id\": null,\n",
            "        \"comments_count\": 0,\n",
            "        \"cover_image\": \"https://res.cloudinary.com/practicaldev/image/fetch/s--rpRLKEui--/c_imagga_scale,f_auto,fl_progressive,h_420,q_auto,w_1000/https://dev-to-uploads.s3.amazonaws.com/i/t43f9ybwqu9sxpgfut5t.jpg\",\n",
            "        \"created_at\": \"2020-03-05T08:35:01Z\",\n",
            "        \"crossposted_at\": null,\n",
            "        \"description\": \"UI stands for User Interface which is a digital medium that a user interacts with. In reality, UI des...\",\n",
            "        \"edited_at\": \"2020-03-21T14:00:18Z\",\n",
            "        \"id\": 274666,\n",
            "        \"last_comment_at\": \"2020-03-05T14:51:59Z\",\n",
            "        \"path\": \"/kedark/steps-towards-better-user-interfaces-k3a\",\n",
            "        \"positive_reactions_count\": 12,\n",
            "        \"public_reactions_count\": 12,\n",
            "        \"published_at\": \"2020-03-05T14:51:59Z\",\n",
            "        \"published_timestamp\": \"2020-03-05T14:51:59Z\",\n",
            "        \"readable_publish_date\": \"Mar 5 '20\",\n",
            "        \"reading_time_minutes\": 4,\n",
            "        \"slug\": \"steps-towards-better-user-interfaces-k3a\",\n",
            "        \"social_image\": \"https://res.cloudinary.com/practicaldev/image/fetch/s--aFPwJUUu--/c_imagga_scale,f_auto,fl_progressive,h_500,q_auto,w_1000/https://dev-to-uploads.s3.amazonaws.com/i/t43f9ybwqu9sxpgfut5t.jpg\",\n",
            "        \"tag_list\": [\n",
            "            \"uiweekly\",\n",
            "            \"ux\",\n",
            "            \"webdev\",\n",
            "            \"design\"\n",
            "        ],\n",
            "        \"tags\": \"uiweekly, ux, webdev, design\",\n",
            "        \"title\": \"Steps towards better User Interfaces\",\n",
            "        \"type_of\": \"article\",\n",
            "        \"url\": \"https://dev.to/kedark/steps-towards-better-user-interfaces-k3a\",\n",
            "        \"user\": {\n",
            "            \"github_username\": \"Kedar-K\",\n",
            "            \"name\": \"Kedar.K\",\n",
            "            \"profile_image\": \"https://res.cloudinary.com/practicaldev/image/fetch/s--dTagIo5I--/c_fill,f_auto,fl_progressive,h_640,q_auto,w_640/https://dev-to-uploads.s3.amazonaws.com/uploads/user/profile_image/107082/dcf5480b-5f8a-40ea-bca8-8b57c9a228fc.jpeg\",\n",
            "            \"profile_image_90\": \"https://res.cloudinary.com/practicaldev/image/fetch/s--gCp-02al--/c_fill,f_auto,fl_progressive,h_90,q_auto,w_90/https://dev-to-uploads.s3.amazonaws.com/uploads/user/profile_image/107082/dcf5480b-5f8a-40ea-bca8-8b57c9a228fc.jpeg\",\n",
            "            \"twitter_username\": \"KodgireKedar\",\n",
            "            \"user_id\": 107082,\n",
            "            \"username\": \"kedark\",\n",
            "            \"website_url\": \"https://kedar-k.github.io/Me\"\n",
            "        }\n",
            "    },\n",
            "    {\n",
            "        \"canonical_url\": \"https://dev.to/kedark/ui-ux-design-inspiration-1-53n7\",\n",
            "        \"collection_id\": 4278,\n",
            "        \"comments_count\": 0,\n",
            "        \"cover_image\": \"https://res.cloudinary.com/practicaldev/image/fetch/s--dB8VBpee--/c_imagga_scale,f_auto,fl_progressive,h_420,q_auto,w_1000/https://thepracticaldev.s3.amazonaws.com/i/tyyl5d99yozkxwronnix.png\",\n",
            "        \"created_at\": \"2020-01-14T19:05:40Z\",\n",
            "        \"crossposted_at\": null,\n",
            "        \"description\": \"\\u201cWe don't just build websites, we build websites that SELLS\\u201d\\u2015 Christopher Dayagdag   These d...\",\n",
            "        \"edited_at\": \"2020-01-16T17:24:18Z\",\n",
            "        \"id\": 238146,\n",
            "        \"last_comment_at\": \"2020-01-15T14:59:19Z\",\n",
            "        \"path\": \"/kedark/ui-ux-design-inspiration-1-53n7\",\n",
            "        \"positive_reactions_count\": 13,\n",
            "        \"public_reactions_count\": 13,\n",
            "        \"published_at\": \"2020-01-15T14:59:19Z\",\n",
            "        \"published_timestamp\": \"2020-01-15T14:59:19Z\",\n",
            "        \"readable_publish_date\": \"Jan 15 '20\",\n",
            "        \"reading_time_minutes\": 2,\n",
            "        \"slug\": \"ui-ux-design-inspiration-1-53n7\",\n",
            "        \"social_image\": \"https://res.cloudinary.com/practicaldev/image/fetch/s--t3kfDHlT--/c_imagga_scale,f_auto,fl_progressive,h_500,q_auto,w_1000/https://thepracticaldev.s3.amazonaws.com/i/tyyl5d99yozkxwronnix.png\",\n",
            "        \"tag_list\": [\n",
            "            \"ux\",\n",
            "            \"webdev\",\n",
            "            \"uiweekly\",\n",
            "            \"productivity\"\n",
            "        ],\n",
            "        \"tags\": \"ux, webdev, uiweekly, productivity\",\n",
            "        \"title\": \"UI/UX Design Inspiration #1\",\n",
            "        \"type_of\": \"article\",\n",
            "        \"url\": \"https://dev.to/kedark/ui-ux-design-inspiration-1-53n7\",\n",
            "        \"user\": {\n",
            "            \"github_username\": \"Kedar-K\",\n",
            "            \"name\": \"Kedar.K\",\n",
            "            \"profile_image\": \"https://res.cloudinary.com/practicaldev/image/fetch/s--dTagIo5I--/c_fill,f_auto,fl_progressive,h_640,q_auto,w_640/https://dev-to-uploads.s3.amazonaws.com/uploads/user/profile_image/107082/dcf5480b-5f8a-40ea-bca8-8b57c9a228fc.jpeg\",\n",
            "            \"profile_image_90\": \"https://res.cloudinary.com/practicaldev/image/fetch/s--gCp-02al--/c_fill,f_auto,fl_progressive,h_90,q_auto,w_90/https://dev-to-uploads.s3.amazonaws.com/uploads/user/profile_image/107082/dcf5480b-5f8a-40ea-bca8-8b57c9a228fc.jpeg\",\n",
            "            \"twitter_username\": \"KodgireKedar\",\n",
            "            \"user_id\": 107082,\n",
            "            \"username\": \"kedark\",\n",
            "            \"website_url\": \"https://kedar-k.github.io/Me\"\n",
            "        }\n",
            "    },\n",
            "    {\n",
            "        \"canonical_url\": \"https://dev.to/kedark/things-to-consider-for-good-typography-on-the-web-22nm\",\n",
            "        \"collection_id\": null,\n",
            "        \"comments_count\": 11,\n",
            "        \"cover_image\": \"https://res.cloudinary.com/practicaldev/image/fetch/s--I9NpxPvf--/c_imagga_scale,f_auto,fl_progressive,h_420,q_auto,w_1000/https://thepracticaldev.s3.amazonaws.com/i/uo98dcskqmg7io0e3lwv.png\",\n",
            "        \"created_at\": \"2020-01-10T05:56:03Z\",\n",
            "        \"crossposted_at\": null,\n",
            "        \"description\": \"Web Typography refers to the text appears on your website. It's not only about the basic CSS text pro...\",\n",
            "        \"edited_at\": \"2020-01-10T17:24:28Z\",\n",
            "        \"id\": 235551,\n",
            "        \"last_comment_at\": \"2021-09-30T11:43:00Z\",\n",
            "        \"path\": \"/kedark/things-to-consider-for-good-typography-on-the-web-22nm\",\n",
            "        \"positive_reactions_count\": 82,\n",
            "        \"public_reactions_count\": 82,\n",
            "        \"published_at\": \"2020-01-10T17:13:12Z\",\n",
            "        \"published_timestamp\": \"2020-01-10T17:13:12Z\",\n",
            "        \"readable_publish_date\": \"Jan 10 '20\",\n",
            "        \"reading_time_minutes\": 7,\n",
            "        \"slug\": \"things-to-consider-for-good-typography-on-the-web-22nm\",\n",
            "        \"social_image\": \"https://res.cloudinary.com/practicaldev/image/fetch/s--OXBRqx_0--/c_imagga_scale,f_auto,fl_progressive,h_500,q_auto,w_1000/https://thepracticaldev.s3.amazonaws.com/i/uo98dcskqmg7io0e3lwv.png\",\n",
            "        \"tag_list\": [\n",
            "            \"webdev\",\n",
            "            \"ux\",\n",
            "            \"uiweekly\",\n",
            "            \"design\"\n",
            "        ],\n",
            "        \"tags\": \"webdev, ux, uiweekly, design\",\n",
            "        \"title\": \"Things to consider for good typography on the web.\",\n",
            "        \"type_of\": \"article\",\n",
            "        \"url\": \"https://dev.to/kedark/things-to-consider-for-good-typography-on-the-web-22nm\",\n",
            "        \"user\": {\n",
            "            \"github_username\": \"Kedar-K\",\n",
            "            \"name\": \"Kedar.K\",\n",
            "            \"profile_image\": \"https://res.cloudinary.com/practicaldev/image/fetch/s--dTagIo5I--/c_fill,f_auto,fl_progressive,h_640,q_auto,w_640/https://dev-to-uploads.s3.amazonaws.com/uploads/user/profile_image/107082/dcf5480b-5f8a-40ea-bca8-8b57c9a228fc.jpeg\",\n",
            "            \"profile_image_90\": \"https://res.cloudinary.com/practicaldev/image/fetch/s--gCp-02al--/c_fill,f_auto,fl_progressive,h_90,q_auto,w_90/https://dev-to-uploads.s3.amazonaws.com/uploads/user/profile_image/107082/dcf5480b-5f8a-40ea-bca8-8b57c9a228fc.jpeg\",\n",
            "            \"twitter_username\": \"KodgireKedar\",\n",
            "            \"user_id\": 107082,\n",
            "            \"username\": \"kedark\",\n",
            "            \"website_url\": \"https://kedar-k.github.io/Me\"\n",
            "        }\n",
            "    },\n",
            "    {\n",
            "        \"canonical_url\": \"https://dev.to/kedark/free-illustrations-resources-for-the-web-make-your-next-project-cooler-525c\",\n",
            "        \"collection_id\": 5624,\n",
            "        \"comments_count\": 38,\n",
            "        \"cover_image\": \"https://res.cloudinary.com/practicaldev/image/fetch/s--4gm7J5_7--/c_imagga_scale,f_auto,fl_progressive,h_420,q_auto,w_1000/https://thepracticaldev.s3.amazonaws.com/i/cci5d0tp9hxy5ta8and1.png\",\n",
            "        \"created_at\": \"2020-01-02T11:29:23Z\",\n",
            "        \"crossposted_at\": null,\n",
            "        \"description\": \"Illustrations - whats that?   It's a versatile means of expressing a message which helps to...\",\n",
            "        \"edited_at\": \"2020-03-27T10:25:23Z\",\n",
            "        \"id\": 230343,\n",
            "        \"last_comment_at\": \"2022-07-13T02:37:41Z\",\n",
            "        \"path\": \"/kedark/free-illustrations-resources-for-the-web-make-your-next-project-cooler-525c\",\n",
            "        \"positive_reactions_count\": 1337,\n",
            "        \"public_reactions_count\": 1337,\n",
            "        \"published_at\": \"2020-01-02T11:32:22Z\",\n",
            "        \"published_timestamp\": \"2020-01-02T11:32:22Z\",\n",
            "        \"readable_publish_date\": \"Jan 2 '20\",\n",
            "        \"reading_time_minutes\": 3,\n",
            "        \"slug\": \"free-illustrations-resources-for-the-web-make-your-next-project-cooler-525c\",\n",
            "        \"social_image\": \"https://res.cloudinary.com/practicaldev/image/fetch/s--2qH7uySA--/c_imagga_scale,f_auto,fl_progressive,h_500,q_auto,w_1000/https://thepracticaldev.s3.amazonaws.com/i/cci5d0tp9hxy5ta8and1.png\",\n",
            "        \"tag_list\": [\n",
            "            \"ux\",\n",
            "            \"uiweekly\",\n",
            "            \"design\",\n",
            "            \"webdev\"\n",
            "        ],\n",
            "        \"tags\": \"ux, uiweekly, design, webdev\",\n",
            "        \"title\": \"Free illustrations resources for the web - Make your next project cooler!\\ud83d\\ude0e\",\n",
            "        \"type_of\": \"article\",\n",
            "        \"url\": \"https://dev.to/kedark/free-illustrations-resources-for-the-web-make-your-next-project-cooler-525c\",\n",
            "        \"user\": {\n",
            "            \"github_username\": \"Kedar-K\",\n",
            "            \"name\": \"Kedar.K\",\n",
            "            \"profile_image\": \"https://res.cloudinary.com/practicaldev/image/fetch/s--dTagIo5I--/c_fill,f_auto,fl_progressive,h_640,q_auto,w_640/https://dev-to-uploads.s3.amazonaws.com/uploads/user/profile_image/107082/dcf5480b-5f8a-40ea-bca8-8b57c9a228fc.jpeg\",\n",
            "            \"profile_image_90\": \"https://res.cloudinary.com/practicaldev/image/fetch/s--gCp-02al--/c_fill,f_auto,fl_progressive,h_90,q_auto,w_90/https://dev-to-uploads.s3.amazonaws.com/uploads/user/profile_image/107082/dcf5480b-5f8a-40ea-bca8-8b57c9a228fc.jpeg\",\n",
            "            \"twitter_username\": \"KodgireKedar\",\n",
            "            \"user_id\": 107082,\n",
            "            \"username\": \"kedark\",\n",
            "            \"website_url\": \"https://kedar-k.github.io/Me\"\n",
            "        }\n",
            "    }\n",
            "]\n"
          ]
        }
      ]
    },
    {
      "cell_type": "code",
      "source": [
        "import matplotlib.pyplot as plt\n",
        "import matplotlib.ticker as ticker\n",
        "import numpy as np\n",
        "import pandas as pd \n",
        "from matplotlib.ticker import ScalarFormatter\n",
        "from matplotlib.ticker import FuncFormatter\n",
        "from textwrap import wrap\n",
        "%matplotlib inline\n",
        "\n"
      ],
      "metadata": {
        "id": "Gmm1HP4tXzdw"
      },
      "execution_count": null,
      "outputs": []
    },
    {
      "cell_type": "code",
      "source": [
        "import os\n",
        "for dirname, _, filenames in os.walk('/kaggle/input'):\n",
        "    for filename in filenames:\n",
        "        print(os.path.join(dirname, filename))"
      ],
      "metadata": {
        "id": "49SYDX4WYcvW"
      },
      "execution_count": null,
      "outputs": []
    },
    {
      "cell_type": "code",
      "source": [
        "data = sc.read.csv('WDIData_T.csv', inferSchema = True, header = True)\n",
        "data.show(5)\n"
      ],
      "metadata": {
        "colab": {
          "base_uri": "https://localhost:8080/"
        },
        "id": "uFYUYipGZEb6",
        "outputId": "7fe2c04b-616b-4c23-bef7-eed574b11ef8"
      },
      "execution_count": null,
      "outputs": [
        {
          "output_type": "stream",
          "name": "stdout",
          "text": [
            "+-----------+-----------+--------------------+--------------+----+-----------------+\n",
            "|CountryName|CountryCode|       IndicatorName| IndicatorCode|Year|            Value|\n",
            "+-----------+-----------+--------------------+--------------+----+-----------------+\n",
            "| Arab World|        ARB|Adolescent fertil...|   SP.ADO.TFRT|1960| 134.772340547077|\n",
            "| Arab World|        ARB|Age dependency ra...|   SP.POP.DPND|1960| 88.0611098786549|\n",
            "| Arab World|        ARB|Age dependency ra...|SP.POP.DPND.OL|1960| 6.59195099288584|\n",
            "| Arab World|        ARB|Age dependency ra...|SP.POP.DPND.YG|1960|81.32418639093659|\n",
            "| Arab World|        ARB|Aquaculture produ...|ER.FSH.AQUA.MT|1960|           4600.0|\n",
            "+-----------+-----------+--------------------+--------------+----+-----------------+\n",
            "only showing top 5 rows\n",
            "\n"
          ]
        }
      ]
    },
    {
      "cell_type": "code",
      "source": [
        "co2_indicator = 'CO2 emissions \\(metric'\n",
        "co2kt_indicator = 'CO2 emissions \\(kt'\n",
        "totGHG_indicator = 'Total greenhouse gas emissions \\(kt of CO2'\n",
        "hist_country = 'USA|GBR|FRA|CHN|JPN|DEU|IND|ITA|BRA|CAN'\n",
        "totFuel='CO2 emissions from gaseous fuel consumption|CO2 emissions from liquid fuel consumption|CO2 emissions from solid fuel consumption'"
      ],
      "metadata": {
        "id": "o2tc5wjLZZ-B"
      },
      "execution_count": null,
      "outputs": []
    },
    {
      "cell_type": "code",
      "source": [
        "\n",
        "mask1 = data['IndicatorName'].str.contains(co2_indicator)\n",
        "mask1kt = data['IndicatorName'].str.contains(co2kt_indicator)\n",
        "mask1GHG = data['IndicatorName'].str.contains(totGHG_indicator)\n",
        "mask2 = data['CountryCode'].str.contains(hist_country)\n",
        "mask3 = data['Year'] == 1960\n",
        "mask4 = data['Year'] == 1970\n",
        "mask5 = data['Year'] == 2006\n",
        "mask6 = data['Year'] == 2011\n",
        "mask7 = data['Year'] == 2016\n",
        "mask1Fuel = data['IndicatorName'].str.contains(totFuel)"
      ],
      "metadata": {
        "id": "IJmkyB_jZdmX"
      },
      "execution_count": null,
      "outputs": []
    },
    {
      "cell_type": "code",
      "source": [
        "tableau20 = [(31, 119, 180), (174, 199, 232), (255, 127, 14), (255, 187, 120),    \n",
        "             (44, 160, 44), (152, 223, 138), (214, 39, 40), (255, 152, 150),    \n",
        "             (148, 103, 189), (197, 176, 213), (140, 86, 75), (196, 156, 148),    \n",
        "             (227, 119, 194), (247, 182, 210), (127, 127, 127), (199, 199, 199)] "
      ],
      "metadata": {
        "id": "Xb0XF6wqZmhh"
      },
      "execution_count": null,
      "outputs": []
    },
    {
      "cell_type": "code",
      "source": [
        "import gspread\n",
        "from oauth2client.service_account import ServiceAccountCredentials\n"
      ],
      "metadata": {
        "id": "mqgaByE-aVRX"
      },
      "execution_count": null,
      "outputs": []
    },
    {
      "cell_type": "code",
      "source": [
        "spreadsheet = 'https://docs.google.com/spreadsheets/d/1vd6hDT6k8lcWNMDYz13kqW7zXnIX5TVED9–4Kq7EAQnvI/edit#gid=0'\n",
        "print(\"spreadhsheet : \",spreadsheet)\n",
        "spreadsheet_key='spreadsheet_key=’1vd6hDT6k8lcWNMDYz13kqW7zXnIX5TVED9–4Kq7EAQnvI'\n",
        "print(\"spreadsheet_key: \",spreadsheet_key)\n",
        "for i in range(len(tableau20)):    \n",
        "    r, g, b = tableau20[i]    \n",
        "    tableau20[i] = (r / 255., g / 255., b / 255.) "
      ],
      "metadata": {
        "colab": {
          "base_uri": "https://localhost:8080/"
        },
        "id": "CivLP9PiZpzT",
        "outputId": "5b771062-471a-4d52-ecf5-32d417d71c89"
      },
      "execution_count": null,
      "outputs": [
        {
          "output_type": "stream",
          "name": "stdout",
          "text": [
            "spreadhsheet :  https://docs.google.com/spreadsheets/d/1vd6hDT6k8lcWNMDYz13kqW7zXnIX5TVED9–4Kq7EAQnvI/edit#gid=0\n",
            "spreadsheet_key:  spreadsheet_key=’1vd6hDT6k8lcWNMDYz13kqW7zXnIX5TVED9–4Kq7EAQnvI\n"
          ]
        }
      ]
    },
    {
      "cell_type": "code",
      "source": [
        "def thousands(x, pos):\n",
        "    'The two args are the value and tick position'\n",
        "    return '%1.1fK' % (x * 1e-4)\n",
        "\n",
        "formatterK = FuncFormatter(thousands)"
      ],
      "metadata": {
        "id": "WmJsP0JWZsJT"
      },
      "execution_count": null,
      "outputs": []
    },
    {
      "cell_type": "code",
      "source": [
        "def lineplot(data,countrylist,HorizPlots,PlotNo,Xmin,Xmax,Ymin,Ymax,Type):\n",
        "    plt_vals=[]\n",
        "    ax=plt.subplot(1, HorizPlots, PlotNo)\n",
        "    ax.spines[\"top\"].set_visible(False)\n",
        "    ax.spines[\"bottom\"].set_visible(False)\n",
        "    ax.spines[\"right\"].set_visible(False)\n",
        "    ax.get_yaxis().tick_left()\n",
        "    if Type == 0:\n",
        "        ax.spines[\"left\"].set_visible(False)\n",
        "        for y in range(5, 30, 5):\n",
        "            plt.plot(range(1959, 2021), [y] * len(range(1959, 2021)), \"--\", lw=1.0, color=\"black\", alpha=0.3)\n",
        "        for i, col in enumerate(countrylist):\n",
        "            plt_vals = data.loc[data['CountryCode'] == col]\n",
        "            ax.plot(plt_vals['Year'].values, plt_vals['Value'].values, linewidth=1.5, color=tableau20[i])\n",
        "            y_pos = plt_vals['Value'].values[-1] -0.3\n",
        "            if plt_vals['CountryCode'].iloc[0] == 'USA':\n",
        "                y_pos +=0.3\n",
        "            elif plt_vals['CountryCode'].iloc[0] == 'JPN':\n",
        "                y_pos +=0.3\n",
        "            elif plt_vals['CountryCode'].iloc[0] == 'DEU':\n",
        "                y_pos -=0.3\n",
        "            elif plt_vals['CountryCode'].iloc[0] == 'BRA':\n",
        "                y_pos +=0.3\n",
        "            elif plt_vals['CountryCode'].iloc[0] == 'GBR':\n",
        "                y_pos +=0.3\n",
        "            plt.text(2016.5, y_pos, plt_vals['CountryName'].iloc[0], fontsize=12, color=tableau20[i])\n",
        "        plt.title('CO2 Emissions (metric tons per capita)')\n",
        "    \n",
        "    if Type == 1:\n",
        "        ax.set_xticks(ticks=[2006,2011,2016])\n",
        "        ax.set_ylabel(data['IndicatorName'].iloc[0],fontsize=12)\n",
        "        \n",
        "        for i, col in enumerate(countrylist):\n",
        "            plt_vals = data.loc[data['CountryCode'] == col]\n",
        "            ax.plot(plt_vals['Year'].values, plt_vals['Value'].values, linewidth=1.5, color=tableau20[-1-i], marker ='o')\n",
        "            y_pos = plt_vals['Value'].values[-1] -0.3\n",
        "            x_pos = 2016.5\n",
        "            if plt_vals['CountryCode'].iloc[0] == 'SAU':\n",
        "                y_pos -=2.0\n",
        "            elif plt_vals['CountryCode'].iloc[0] == 'TTO':\n",
        "                y_pos -=1.0\n",
        "            elif plt_vals['CountryCode'].iloc[0] == 'BHR':\n",
        "                y_pos -=1.0\n",
        "            elif plt_vals['CountryCode'].iloc[0] == 'ARE':\n",
        "                y_pos +=1.0\n",
        "            elif plt_vals['CountryCode'].iloc[0] == 'BRN':\n",
        "                y_pos -=1.0\n",
        "            elif plt_vals['CountryCode'].iloc[0] == 'GIB':\n",
        "                x_pos +=4.5\n",
        "                y_pos +=0.3\n",
        "            plt.text(x_pos, y_pos, plt_vals['CountryName'].iloc[0], fontsize=12)\n",
        "    \n",
        "    if Type == 2:\n",
        "        ax.set_yscale('log')\n",
        "        ax.set_yticks(ticks=[1e3,1e5,1e7])\n",
        "        ax.set_xticks(ticks=[2006,2011,2016])\n",
        "        ax.set_ylabel(data['IndicatorName'].iloc[0],fontsize=12)\n",
        "        ax.yaxis.set_major_formatter(formatterK)\n",
        "        \n",
        "        for i, col in enumerate(countrylist):\n",
        "            plt_vals = data.loc[data['CountryCode'] == col]\n",
        "            ax.plot(plt_vals['Year'].values, plt_vals['Value'].values, lw=1.5, marker='o', c=tableau20[i])\n",
        "            y_pos = plt_vals['Value'].values[-1]\n",
        "            if plt_vals['CountryCode'].iloc[0] == 'IDN':\n",
        "                y_pos *=0.78\n",
        "            elif plt_vals['CountryCode'].iloc[0] == 'SAU':\n",
        "                y_pos *=0.90\n",
        "            elif plt_vals['CountryCode'].iloc[0] == 'KOR':\n",
        "                y_pos *=0.93\n",
        "            elif plt_vals['CountryCode'].iloc[0] == 'DEU':\n",
        "                y_pos *=1.05\n",
        "            plt.text(2016.5, y_pos, plt_vals['CountryName'].iloc[0], fontsize=12)\n",
        "    \n",
        "    plt.xticks(fontsize=12)\n",
        "    plt.yticks(fontsize=12)\n",
        "    plt.axis([Xmin,Xmax,Ymin,Ymax])"
      ],
      "metadata": {
        "id": "Xfrh75t6ZuiI"
      },
      "execution_count": null,
      "outputs": []
    },
    {
      "cell_type": "code",
      "source": [
        "def scatterplot(data1,data2,countrylist1,countrylist2,HorizPlots,PlotNo,Xmin,Xmax,Ymin,Ymax,Type):\n",
        "    i=0\n",
        "    X = data1['Value']\n",
        "    Y = data2['Value']\n",
        "    X2 = data1['Value'][data1['CountryCode'].str.contains(countrylist1)]\n",
        "    Y2 = data2['Value'][data2['CountryCode'].str.contains(countrylist1)]\n",
        "    if Type == 1:\n",
        "        X3 = data1['Value'][data1['CountryCode'].str.contains(countrylist2)]\n",
        "        Y3 = data2['Value'][data2['CountryCode'].str.contains(countrylist2)]\n",
        "    a = [i for i in range(0, int(Xmax))]\n",
        "    ax = plt.subplot(1,HorizPlots,PlotNo) \n",
        "    if Type == 0:\n",
        "        ax.scatter(X, Y, color=tableau20[1], edgecolor='black', s=70, marker='^')\n",
        "        ax.scatter(X2, Y2, color=tableau20[-3], edgecolor='black', s=150)\n",
        "    elif Type == 1:\n",
        "        ax.scatter(X, Y, color=tableau20[1], edgecolor='black', s=70, marker='^')\n",
        "        ax.scatter(X2, Y2, color=tableau20[-3], edgecolor='black', s=150)\n",
        "        ax.scatter(X3, Y3, color=tableau20[-11], edgecolor='black', s=150)\n",
        "    ax.plot(a, color='black', lw=0.5)\n",
        "    ax.spines[\"top\"].set_visible(False)    \n",
        "    ax.spines[\"right\"].set_visible(False)\n",
        "    ax.set_xscale('log')\n",
        "    ax.set_yscale('log')\n",
        "    ax.tick_params(axis='both', which='minor', bottom=False, left=False)\n",
        "    ax.set_xlabel(str(data1['Year'].iloc[0])+' '+data1['IndicatorName'].iloc[0],fontsize=12)\n",
        "    ax.set_ylabel('2016 '+data2['IndicatorName'].iloc[0],fontsize=12)\n",
        "    if Type == 0:\n",
        "        for axis in [ax.xaxis, ax.yaxis]:\n",
        "            axis.set_major_formatter(ScalarFormatter())\n",
        "    elif Type == 1:\n",
        "        ax.set_xticks(ticks=[1e3,1e5,1e7])\n",
        "        ax.set_yticks(ticks=[1e3,1e5,1e7])\n",
        "        for axis in [ax.xaxis, ax.yaxis]:\n",
        "            axis.set_major_formatter(formatterK)\n",
        "    \n",
        "    plt.xticks(fontsize=12)\n",
        "    plt.yticks(fontsize=12)\n",
        "    plt.axis([Xmin,Xmax,Ymin,Ymax])"
      ],
      "metadata": {
        "id": "0AAPTUbyZyV1"
      },
      "execution_count": null,
      "outputs": []
    },
    {
      "cell_type": "code",
      "source": [
        "def hBar(Val,Country,PlotNo,Title):\n",
        "    X=[x for x, _ in enumerate(Val)]\n",
        "    Y = np.array(Val)\n",
        "    ax=plt.subplot(1, 5, PlotNo) \n",
        "    ax.spines[\"top\"].set_visible(False)\n",
        "    ax.spines[\"bottom\"].set_visible(False)    \n",
        "    ax.spines[\"right\"].set_visible(False)\n",
        "    for i, col in enumerate(Country):\n",
        "        ax.text(29, i-0.1, str(int(round(Val.values[i])))+'%', fontsize=12)\n",
        "    ax.barh(X,Y,color=tableau20[9])\n",
        "    plt.title((\"\\n\".join(wrap(Title, 15))))\n",
        "    if PlotNo==1:\n",
        "        plt.yticks(X, Country, wrap=True, fontsize=12)\n",
        "    else:\n",
        "        plt.yticks([])\n",
        "    plt.xticks(fontsize=12)\n",
        "    plt.xlim(0,60)"
      ],
      "metadata": {
        "id": "yvDfVV6cZ6Kk"
      },
      "execution_count": null,
      "outputs": []
    },
    {
      "cell_type": "code",
      "source": [
        "countrylist = hist_country.split('|')\n",
        "plt.figure(figsize=(10,7))\n",
        "\n",
        "plt.show()"
      ],
      "metadata": {
        "colab": {
          "base_uri": "https://localhost:8080/",
          "height": 144
        },
        "id": "JedClBvuZ8Nh",
        "outputId": "eb2b250a-b36f-434b-ed17-d19a8d5edd5f"
      },
      "execution_count": null,
      "outputs": [
        {
          "output_type": "display_data",
          "data": {
            "text/plain": [
              "<Figure size 720x504 with 0 Axes>"
            ]
          },
          "metadata": {}
        }
      ]
    },
    {
      "cell_type": "code",
      "source": [],
      "metadata": {
        "id": "ONBUZzkH8jrZ"
      },
      "execution_count": null,
      "outputs": []
    }
  ]
}